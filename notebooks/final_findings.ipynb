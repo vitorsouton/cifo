{
 "cells": [
  {
   "cell_type": "code",
   "execution_count": 95,
   "id": "5d7fec99-d95f-44bc-984e-4d5546deedee",
   "metadata": {},
   "outputs": [
    {
     "name": "stdout",
     "output_type": "stream",
     "text": [
      "The autoreload extension is already loaded. To reload it, use:\n",
      "  %reload_ext autoreload\n"
     ]
    }
   ],
   "source": [
    "%load_ext autoreload\n",
    "%autoreload 2\n",
    "\n",
    "import sys; sys.path.append('.')\n",
    "import pickle\n",
    "\n",
    "import pandas as pd\n",
    "import numpy as np\n",
    "import seaborn as sns\n",
    "import matplotlib.pyplot as plt\n",
    "\n",
    "from genetic.utils import calculate_inertia, get_cluster_distribution"
   ]
  },
  {
   "cell_type": "code",
   "execution_count": 117,
   "id": "6912b840-2568-43c2-99d5-6f9f44bfbb10",
   "metadata": {},
   "outputs": [
    {
     "data": {
      "text/html": [
       "<div>\n",
       "<style scoped>\n",
       "    .dataframe tbody tr th:only-of-type {\n",
       "        vertical-align: middle;\n",
       "    }\n",
       "\n",
       "    .dataframe tbody tr th {\n",
       "        vertical-align: top;\n",
       "    }\n",
       "\n",
       "    .dataframe thead th {\n",
       "        text-align: right;\n",
       "    }\n",
       "</style>\n",
       "<table border=\"1\" class=\"dataframe\">\n",
       "  <thead>\n",
       "    <tr style=\"text-align: right;\">\n",
       "      <th></th>\n",
       "      <th>duration_ms</th>\n",
       "      <th>loudness</th>\n",
       "      <th>tempo</th>\n",
       "      <th>valence</th>\n",
       "      <th>acousticness</th>\n",
       "      <th>danceability</th>\n",
       "      <th>energy</th>\n",
       "    </tr>\n",
       "  </thead>\n",
       "  <tbody>\n",
       "    <tr>\n",
       "      <th>0</th>\n",
       "      <td>0.403695</td>\n",
       "      <td>0.451467</td>\n",
       "      <td>0.178779</td>\n",
       "      <td>0.963</td>\n",
       "      <td>0.732</td>\n",
       "      <td>0.819</td>\n",
       "      <td>0.341</td>\n",
       "    </tr>\n",
       "    <tr>\n",
       "      <th>1</th>\n",
       "      <td>0.483304</td>\n",
       "      <td>0.557378</td>\n",
       "      <td>0.412301</td>\n",
       "      <td>0.165</td>\n",
       "      <td>0.967</td>\n",
       "      <td>0.275</td>\n",
       "      <td>0.309</td>\n",
       "    </tr>\n",
       "    <tr>\n",
       "      <th>2</th>\n",
       "      <td>0.366304</td>\n",
       "      <td>0.530943</td>\n",
       "      <td>0.421576</td>\n",
       "      <td>0.253</td>\n",
       "      <td>0.957</td>\n",
       "      <td>0.418</td>\n",
       "      <td>0.193</td>\n",
       "    </tr>\n",
       "    <tr>\n",
       "      <th>3</th>\n",
       "      <td>0.983312</td>\n",
       "      <td>0.449265</td>\n",
       "      <td>0.529827</td>\n",
       "      <td>0.196</td>\n",
       "      <td>0.579</td>\n",
       "      <td>0.697</td>\n",
       "      <td>0.346</td>\n",
       "    </tr>\n",
       "    <tr>\n",
       "      <th>4</th>\n",
       "      <td>0.346890</td>\n",
       "      <td>0.514234</td>\n",
       "      <td>0.210284</td>\n",
       "      <td>0.406</td>\n",
       "      <td>0.996</td>\n",
       "      <td>0.518</td>\n",
       "      <td>0.203</td>\n",
       "    </tr>\n",
       "  </tbody>\n",
       "</table>\n",
       "</div>"
      ],
      "text/plain": [
       "   duration_ms  loudness     tempo  valence  acousticness  danceability  \\\n",
       "0     0.403695  0.451467  0.178779    0.963         0.732         0.819   \n",
       "1     0.483304  0.557378  0.412301    0.165         0.967         0.275   \n",
       "2     0.366304  0.530943  0.421576    0.253         0.957         0.418   \n",
       "3     0.983312  0.449265  0.529827    0.196         0.579         0.697   \n",
       "4     0.346890  0.514234  0.210284    0.406         0.996         0.518   \n",
       "\n",
       "   energy  \n",
       "0   0.341  \n",
       "1   0.309  \n",
       "2   0.193  \n",
       "3   0.346  \n",
       "4   0.203  "
      ]
     },
     "execution_count": 117,
     "metadata": {},
     "output_type": "execute_result"
    }
   ],
   "source": [
    "data = pd.read_csv('../data/clean_data/clean_data.csv')\n",
    "data.head()"
   ]
  },
  {
   "cell_type": "markdown",
   "id": "d1a57786-aa79-46bd-994f-4c9a7ae6e902",
   "metadata": {},
   "source": [
    "# Preliminary logs"
   ]
  },
  {
   "cell_type": "markdown",
   "id": "c561b501-a059-45f1-9f41-46e1d9f565ff",
   "metadata": {},
   "source": [
    "Disclaimer: I forgot to add to the logs the fitness (which is the inertia)...<br>\n",
    "At least I've logged the best representations, so we can calculate the inertia and check!"
   ]
  },
  {
   "cell_type": "code",
   "execution_count": 118,
   "id": "8cbd3b7e-0640-49c1-8aaa-6785cca8affb",
   "metadata": {},
   "outputs": [
    {
     "data": {
      "text/plain": [
       "dict_keys(['time', 'loop_time', 'best', 'selection', 'xo', 'mutation'])"
      ]
     },
     "execution_count": 118,
     "metadata": {},
     "output_type": "execute_result"
    }
   ],
   "source": [
    "with open('../data/logs/02-06-2024--00:54:17--ALGO_SELECTION.pkl', 'rb') as f:\n",
    "    p_logs = pickle.load(f)\n",
    "\n",
    "p_logs.keys()"
   ]
  },
  {
   "cell_type": "markdown",
   "id": "b41730dd-8167-4f51-9caa-185454f25f97",
   "metadata": {},
   "source": [
    "In this preliminary run, we have ran 5 distinct populations for each combination of available Crossover, Selection and Mutation.<br>"
   ]
  },
  {
   "cell_type": "code",
   "execution_count": 119,
   "id": "4267ac5a-45ee-4887-99cc-79d174b48463",
   "metadata": {},
   "outputs": [
    {
     "data": {
      "text/html": [
       "<div>\n",
       "<style scoped>\n",
       "    .dataframe tbody tr th:only-of-type {\n",
       "        vertical-align: middle;\n",
       "    }\n",
       "\n",
       "    .dataframe tbody tr th {\n",
       "        vertical-align: top;\n",
       "    }\n",
       "\n",
       "    .dataframe thead th {\n",
       "        text-align: right;\n",
       "    }\n",
       "</style>\n",
       "<table border=\"1\" class=\"dataframe\">\n",
       "  <thead>\n",
       "    <tr style=\"text-align: right;\">\n",
       "      <th></th>\n",
       "      <th>time</th>\n",
       "      <th>loop_time</th>\n",
       "      <th>best</th>\n",
       "      <th>selection</th>\n",
       "      <th>xo</th>\n",
       "      <th>mutation</th>\n",
       "    </tr>\n",
       "  </thead>\n",
       "  <tbody>\n",
       "    <tr>\n",
       "      <th>0</th>\n",
       "      <td>3.470610</td>\n",
       "      <td>[0.2947573661804199, 0.30557823181152344, 0.26...</td>\n",
       "      <td>[[0.5144546499694906, 0.5144546499694906, 0.51...</td>\n",
       "      <td>tournament_sel</td>\n",
       "      <td>single_centroid_crossover</td>\n",
       "      <td>coordinate_mutation</td>\n",
       "    </tr>\n",
       "    <tr>\n",
       "      <th>1</th>\n",
       "      <td>4.519453</td>\n",
       "      <td>[0.2886185646057129, 0.30994582176208496, 0.26...</td>\n",
       "      <td>[[0.36756888660184484, 0.14730487211706988, 0....</td>\n",
       "      <td>tournament_sel</td>\n",
       "      <td>single_centroid_crossover</td>\n",
       "      <td>coordinate_mutation</td>\n",
       "    </tr>\n",
       "    <tr>\n",
       "      <th>2</th>\n",
       "      <td>4.807515</td>\n",
       "      <td>[0.30596256256103516, 0.31203770637512207, 0.2...</td>\n",
       "      <td>[[0.46964896500868103, 0.7433423008554427, 0.6...</td>\n",
       "      <td>tournament_sel</td>\n",
       "      <td>single_centroid_crossover</td>\n",
       "      <td>coordinate_mutation</td>\n",
       "    </tr>\n",
       "    <tr>\n",
       "      <th>3</th>\n",
       "      <td>5.567898</td>\n",
       "      <td>[0.29167604446411133, 0.31197047233581543, 0.2...</td>\n",
       "      <td>[[0.6323033431528889, 0.6323033431528889, 0.63...</td>\n",
       "      <td>tournament_sel</td>\n",
       "      <td>single_centroid_crossover</td>\n",
       "      <td>coordinate_mutation</td>\n",
       "    </tr>\n",
       "    <tr>\n",
       "      <th>4</th>\n",
       "      <td>6.022527</td>\n",
       "      <td>[0.30576229095458984, 0.3100917339324951, 0.26...</td>\n",
       "      <td>[[0.5560835084138883, 0.5560835084138883, 0.55...</td>\n",
       "      <td>tournament_sel</td>\n",
       "      <td>single_centroid_crossover</td>\n",
       "      <td>coordinate_mutation</td>\n",
       "    </tr>\n",
       "  </tbody>\n",
       "</table>\n",
       "</div>"
      ],
      "text/plain": [
       "       time                                          loop_time  \\\n",
       "0  3.470610  [0.2947573661804199, 0.30557823181152344, 0.26...   \n",
       "1  4.519453  [0.2886185646057129, 0.30994582176208496, 0.26...   \n",
       "2  4.807515  [0.30596256256103516, 0.31203770637512207, 0.2...   \n",
       "3  5.567898  [0.29167604446411133, 0.31197047233581543, 0.2...   \n",
       "4  6.022527  [0.30576229095458984, 0.3100917339324951, 0.26...   \n",
       "\n",
       "                                                best       selection  \\\n",
       "0  [[0.5144546499694906, 0.5144546499694906, 0.51...  tournament_sel   \n",
       "1  [[0.36756888660184484, 0.14730487211706988, 0....  tournament_sel   \n",
       "2  [[0.46964896500868103, 0.7433423008554427, 0.6...  tournament_sel   \n",
       "3  [[0.6323033431528889, 0.6323033431528889, 0.63...  tournament_sel   \n",
       "4  [[0.5560835084138883, 0.5560835084138883, 0.55...  tournament_sel   \n",
       "\n",
       "                          xo             mutation  \n",
       "0  single_centroid_crossover  coordinate_mutation  \n",
       "1  single_centroid_crossover  coordinate_mutation  \n",
       "2  single_centroid_crossover  coordinate_mutation  \n",
       "3  single_centroid_crossover  coordinate_mutation  \n",
       "4  single_centroid_crossover  coordinate_mutation  "
      ]
     },
     "execution_count": 119,
     "metadata": {},
     "output_type": "execute_result"
    }
   ],
   "source": [
    "df_pre = pd.DataFrame().from_dict(p_logs)\n",
    "df_pre.head()"
   ]
  },
  {
   "cell_type": "code",
   "execution_count": 120,
   "id": "d8a1156c-b50f-4ac9-9236-9854c77012d0",
   "metadata": {},
   "outputs": [
    {
     "data": {
      "text/html": [
       "<div>\n",
       "<style scoped>\n",
       "    .dataframe tbody tr th:only-of-type {\n",
       "        vertical-align: middle;\n",
       "    }\n",
       "\n",
       "    .dataframe tbody tr th {\n",
       "        vertical-align: top;\n",
       "    }\n",
       "\n",
       "    .dataframe thead th {\n",
       "        text-align: right;\n",
       "    }\n",
       "</style>\n",
       "<table border=\"1\" class=\"dataframe\">\n",
       "  <thead>\n",
       "    <tr style=\"text-align: right;\">\n",
       "      <th></th>\n",
       "      <th>time</th>\n",
       "      <th>loop_time</th>\n",
       "      <th>best</th>\n",
       "      <th>selection</th>\n",
       "      <th>xo</th>\n",
       "      <th>mutation</th>\n",
       "      <th>inertia</th>\n",
       "    </tr>\n",
       "  </thead>\n",
       "  <tbody>\n",
       "    <tr>\n",
       "      <th>0</th>\n",
       "      <td>3.470610</td>\n",
       "      <td>[0.2947573661804199, 0.30557823181152344, 0.26...</td>\n",
       "      <td>[[0.5144546499694906, 0.5144546499694906, 0.51...</td>\n",
       "      <td>tournament_sel</td>\n",
       "      <td>single_centroid_crossover</td>\n",
       "      <td>coordinate_mutation</td>\n",
       "      <td>43935.198544</td>\n",
       "    </tr>\n",
       "    <tr>\n",
       "      <th>1</th>\n",
       "      <td>4.519453</td>\n",
       "      <td>[0.2886185646057129, 0.30994582176208496, 0.26...</td>\n",
       "      <td>[[0.36756888660184484, 0.14730487211706988, 0....</td>\n",
       "      <td>tournament_sel</td>\n",
       "      <td>single_centroid_crossover</td>\n",
       "      <td>coordinate_mutation</td>\n",
       "      <td>37475.419456</td>\n",
       "    </tr>\n",
       "    <tr>\n",
       "      <th>2</th>\n",
       "      <td>4.807515</td>\n",
       "      <td>[0.30596256256103516, 0.31203770637512207, 0.2...</td>\n",
       "      <td>[[0.46964896500868103, 0.7433423008554427, 0.6...</td>\n",
       "      <td>tournament_sel</td>\n",
       "      <td>single_centroid_crossover</td>\n",
       "      <td>coordinate_mutation</td>\n",
       "      <td>37954.473840</td>\n",
       "    </tr>\n",
       "    <tr>\n",
       "      <th>3</th>\n",
       "      <td>5.567898</td>\n",
       "      <td>[0.29167604446411133, 0.31197047233581543, 0.2...</td>\n",
       "      <td>[[0.6323033431528889, 0.6323033431528889, 0.63...</td>\n",
       "      <td>tournament_sel</td>\n",
       "      <td>single_centroid_crossover</td>\n",
       "      <td>coordinate_mutation</td>\n",
       "      <td>46519.133218</td>\n",
       "    </tr>\n",
       "    <tr>\n",
       "      <th>4</th>\n",
       "      <td>6.022527</td>\n",
       "      <td>[0.30576229095458984, 0.3100917339324951, 0.26...</td>\n",
       "      <td>[[0.5560835084138883, 0.5560835084138883, 0.55...</td>\n",
       "      <td>tournament_sel</td>\n",
       "      <td>single_centroid_crossover</td>\n",
       "      <td>coordinate_mutation</td>\n",
       "      <td>41792.266737</td>\n",
       "    </tr>\n",
       "  </tbody>\n",
       "</table>\n",
       "</div>"
      ],
      "text/plain": [
       "       time                                          loop_time  \\\n",
       "0  3.470610  [0.2947573661804199, 0.30557823181152344, 0.26...   \n",
       "1  4.519453  [0.2886185646057129, 0.30994582176208496, 0.26...   \n",
       "2  4.807515  [0.30596256256103516, 0.31203770637512207, 0.2...   \n",
       "3  5.567898  [0.29167604446411133, 0.31197047233581543, 0.2...   \n",
       "4  6.022527  [0.30576229095458984, 0.3100917339324951, 0.26...   \n",
       "\n",
       "                                                best       selection  \\\n",
       "0  [[0.5144546499694906, 0.5144546499694906, 0.51...  tournament_sel   \n",
       "1  [[0.36756888660184484, 0.14730487211706988, 0....  tournament_sel   \n",
       "2  [[0.46964896500868103, 0.7433423008554427, 0.6...  tournament_sel   \n",
       "3  [[0.6323033431528889, 0.6323033431528889, 0.63...  tournament_sel   \n",
       "4  [[0.5560835084138883, 0.5560835084138883, 0.55...  tournament_sel   \n",
       "\n",
       "                          xo             mutation       inertia  \n",
       "0  single_centroid_crossover  coordinate_mutation  43935.198544  \n",
       "1  single_centroid_crossover  coordinate_mutation  37475.419456  \n",
       "2  single_centroid_crossover  coordinate_mutation  37954.473840  \n",
       "3  single_centroid_crossover  coordinate_mutation  46519.133218  \n",
       "4  single_centroid_crossover  coordinate_mutation  41792.266737  "
      ]
     },
     "execution_count": 120,
     "metadata": {},
     "output_type": "execute_result"
    }
   ],
   "source": [
    "df_pre.loc[:, 'inertia'] = df_pre.best.apply(lambda x: calculate_inertia(x, data))\n",
    "df_pre.head()"
   ]
  },
  {
   "cell_type": "markdown",
   "id": "58783ec4-8009-4b7a-9f8d-67ba88ba263d",
   "metadata": {},
   "source": [
    "## Time of execution"
   ]
  },
  {
   "cell_type": "markdown",
   "id": "549220cf-d840-47eb-ae53-2ece2a30a003",
   "metadata": {},
   "source": [
    "<font color='red'>There were 18 batches of 5 populations, each batch with a different combination of selection, crossover and mutation algorithms. In total 84/85 runs were succesful.</font><br>\n",
    "<br>\n",
    "All the runs were made in parallel with a 13th Gen i9 CPU.<br>\n",
    "The bottleneck was the **Crossover** step in PNN and pairwise algorithms. Due to its iterative nature of calculating new centroids and merging the closest ones, no parallelism could be implemented in this step.<br>\n",
    "As the crossover algorithm was the most impactful parameter, we've decided to perform the bulk of this analysis taking it as the main actor.<br>\n",
    "<br>\n",
    "It is worth mentioning that we have coded an \"early stopping\" of sorts. And if, after 10 generations, the fitness didn't improve, the algorithm stops."
   ]
  },
  {
   "cell_type": "code",
   "execution_count": 145,
   "id": "5171dd50-26d9-459a-9742-0305ab4c67a7",
   "metadata": {},
   "outputs": [],
   "source": [
    "df_pre.loc[:, 'loop_time_mean'] = df_pre.loop_time.apply(lambda x: np.mean(x))\n",
    "df_pre.loc[:, 'gens_to_converge'] = df_pre.loop_time.apply(lambda x: len(x) - 10)"
   ]
  },
  {
   "cell_type": "code",
   "execution_count": 153,
   "id": "bb9b03bd-b97d-4a9d-a48e-5999ef010d24",
   "metadata": {},
   "outputs": [
    {
     "data": {
      "text/html": [
       "<div>\n",
       "<style scoped>\n",
       "    .dataframe tbody tr th:only-of-type {\n",
       "        vertical-align: middle;\n",
       "    }\n",
       "\n",
       "    .dataframe tbody tr th {\n",
       "        vertical-align: top;\n",
       "    }\n",
       "\n",
       "    .dataframe thead tr th {\n",
       "        text-align: left;\n",
       "    }\n",
       "\n",
       "    .dataframe thead tr:last-of-type th {\n",
       "        text-align: right;\n",
       "    }\n",
       "</style>\n",
       "<table border=\"1\" class=\"dataframe\">\n",
       "  <thead>\n",
       "    <tr>\n",
       "      <th></th>\n",
       "      <th colspan=\"2\" halign=\"left\">time</th>\n",
       "      <th colspan=\"2\" halign=\"left\">loop_time_mean</th>\n",
       "      <th>gens_to_converge</th>\n",
       "    </tr>\n",
       "    <tr>\n",
       "      <th></th>\n",
       "      <th>mean</th>\n",
       "      <th>std</th>\n",
       "      <th>mean</th>\n",
       "      <th>std</th>\n",
       "      <th>mean</th>\n",
       "    </tr>\n",
       "    <tr>\n",
       "      <th>xo</th>\n",
       "      <th></th>\n",
       "      <th></th>\n",
       "      <th></th>\n",
       "      <th></th>\n",
       "      <th></th>\n",
       "    </tr>\n",
       "  </thead>\n",
       "  <tbody>\n",
       "    <tr>\n",
       "      <th>PNN</th>\n",
       "      <td>352.776615</td>\n",
       "      <td>63.808783</td>\n",
       "      <td>22.735858</td>\n",
       "      <td>3.662518</td>\n",
       "      <td>5</td>\n",
       "    </tr>\n",
       "    <tr>\n",
       "      <th>pairwise_crossover</th>\n",
       "      <td>106.016421</td>\n",
       "      <td>62.905720</td>\n",
       "      <td>4.387692</td>\n",
       "      <td>2.003210</td>\n",
       "      <td>14</td>\n",
       "    </tr>\n",
       "    <tr>\n",
       "      <th>single_centroid_crossover</th>\n",
       "      <td>4.278971</td>\n",
       "      <td>1.230531</td>\n",
       "      <td>0.269855</td>\n",
       "      <td>0.005633</td>\n",
       "      <td>5</td>\n",
       "    </tr>\n",
       "  </tbody>\n",
       "</table>\n",
       "</div>"
      ],
      "text/plain": [
       "                                 time            loop_time_mean            \\\n",
       "                                 mean        std           mean       std   \n",
       "xo                                                                          \n",
       "PNN                        352.776615  63.808783      22.735858  3.662518   \n",
       "pairwise_crossover         106.016421  62.905720       4.387692  2.003210   \n",
       "single_centroid_crossover    4.278971   1.230531       0.269855  0.005633   \n",
       "\n",
       "                          gens_to_converge  \n",
       "                                      mean  \n",
       "xo                                          \n",
       "PNN                                      5  \n",
       "pairwise_crossover                      14  \n",
       "single_centroid_crossover                5  "
      ]
     },
     "execution_count": 153,
     "metadata": {},
     "output_type": "execute_result"
    }
   ],
   "source": [
    "round_mean = lambda x: int(np.mean(x))\n",
    "round_mean.__name__ = 'mean'\n",
    "\n",
    "df_pre.groupby(['xo'])[['time', 'loop_time_mean', 'gens_to_converge']].agg({'time': ['mean', 'std'], 'loop_time_mean': ['mean', 'std'], 'gens_to_converge': round_mean})"
   ]
  },
  {
   "cell_type": "code",
   "execution_count": null,
   "id": "a7117e01-e449-41ca-a78c-58fd6862fa69",
   "metadata": {},
   "outputs": [],
   "source": []
  },
  {
   "cell_type": "markdown",
   "id": "888bfb07-6f84-4855-96c4-4ffdc7944655",
   "metadata": {},
   "source": [
    "# Final logs"
   ]
  },
  {
   "cell_type": "code",
   "execution_count": 4,
   "id": "110b266d-d3da-4ede-b2bc-75ece42b7d84",
   "metadata": {
    "scrolled": true
   },
   "outputs": [
    {
     "data": {
      "text/plain": [
       "dict_keys(['time', 'loop_time', 'best', 'selection', 'xo', 'mutation'])"
      ]
     },
     "execution_count": 4,
     "metadata": {},
     "output_type": "execute_result"
    }
   ],
   "source": [
    "with open('../data/logs/02-06-2024--10:57:50--FULL_RUN.pkl', 'rb') as f:\n",
    "    f_logs = pickle.load(f)\n",
    "\n",
    "f_logs.keys()"
   ]
  },
  {
   "cell_type": "code",
   "execution_count": 5,
   "id": "bdb7253e-2a3e-4272-8fd6-dcede97d5f0d",
   "metadata": {},
   "outputs": [
    {
     "data": {
      "text/html": [
       "<div>\n",
       "<style scoped>\n",
       "    .dataframe tbody tr th:only-of-type {\n",
       "        vertical-align: middle;\n",
       "    }\n",
       "\n",
       "    .dataframe tbody tr th {\n",
       "        vertical-align: top;\n",
       "    }\n",
       "\n",
       "    .dataframe thead th {\n",
       "        text-align: right;\n",
       "    }\n",
       "</style>\n",
       "<table border=\"1\" class=\"dataframe\">\n",
       "  <thead>\n",
       "    <tr style=\"text-align: right;\">\n",
       "      <th></th>\n",
       "      <th>time</th>\n",
       "      <th>loop_time</th>\n",
       "      <th>best</th>\n",
       "      <th>selection</th>\n",
       "      <th>xo</th>\n",
       "      <th>mutation</th>\n",
       "    </tr>\n",
       "  </thead>\n",
       "  <tbody>\n",
       "    <tr>\n",
       "      <th>0</th>\n",
       "      <td>238.300086</td>\n",
       "      <td>[25.65622878074646, 22.744904279708862, 18.439...</td>\n",
       "      <td>[[0.572482795589442, 0.616151106892431, 0.5589...</td>\n",
       "      <td>elitist_selector</td>\n",
       "      <td>PNN</td>\n",
       "      <td>random_swap_mutation</td>\n",
       "    </tr>\n",
       "    <tr>\n",
       "      <th>1</th>\n",
       "      <td>270.374340</td>\n",
       "      <td>[24.326478719711304, 20.38233518600464, 25.697...</td>\n",
       "      <td>[[0.399085957885212, 0.4692869844803897, 0.519...</td>\n",
       "      <td>elitist_selector</td>\n",
       "      <td>PNN</td>\n",
       "      <td>random_swap_mutation</td>\n",
       "    </tr>\n",
       "    <tr>\n",
       "      <th>2</th>\n",
       "      <td>273.935669</td>\n",
       "      <td>[22.499300241470337, 20.722336292266846, 25.70...</td>\n",
       "      <td>[[0.39449645693708185, 0.4698947680997421, 0.5...</td>\n",
       "      <td>elitist_selector</td>\n",
       "      <td>PNN</td>\n",
       "      <td>random_swap_mutation</td>\n",
       "    </tr>\n",
       "    <tr>\n",
       "      <th>3</th>\n",
       "      <td>349.308173</td>\n",
       "      <td>[28.89338779449463, 21.612872838974, 24.201088...</td>\n",
       "      <td>[[0.5153669185295041, 0.5920158404245034, 0.53...</td>\n",
       "      <td>elitist_selector</td>\n",
       "      <td>PNN</td>\n",
       "      <td>random_swap_mutation</td>\n",
       "    </tr>\n",
       "    <tr>\n",
       "      <th>4</th>\n",
       "      <td>369.804610</td>\n",
       "      <td>[25.507760286331177, 24.475112199783325, 16.53...</td>\n",
       "      <td>[[0.5096078375692251, 0.5995223796014387, 0.54...</td>\n",
       "      <td>elitist_selector</td>\n",
       "      <td>PNN</td>\n",
       "      <td>random_swap_mutation</td>\n",
       "    </tr>\n",
       "  </tbody>\n",
       "</table>\n",
       "</div>"
      ],
      "text/plain": [
       "         time                                          loop_time  \\\n",
       "0  238.300086  [25.65622878074646, 22.744904279708862, 18.439...   \n",
       "1  270.374340  [24.326478719711304, 20.38233518600464, 25.697...   \n",
       "2  273.935669  [22.499300241470337, 20.722336292266846, 25.70...   \n",
       "3  349.308173  [28.89338779449463, 21.612872838974, 24.201088...   \n",
       "4  369.804610  [25.507760286331177, 24.475112199783325, 16.53...   \n",
       "\n",
       "                                                best         selection   xo  \\\n",
       "0  [[0.572482795589442, 0.616151106892431, 0.5589...  elitist_selector  PNN   \n",
       "1  [[0.399085957885212, 0.4692869844803897, 0.519...  elitist_selector  PNN   \n",
       "2  [[0.39449645693708185, 0.4698947680997421, 0.5...  elitist_selector  PNN   \n",
       "3  [[0.5153669185295041, 0.5920158404245034, 0.53...  elitist_selector  PNN   \n",
       "4  [[0.5096078375692251, 0.5995223796014387, 0.54...  elitist_selector  PNN   \n",
       "\n",
       "               mutation  \n",
       "0  random_swap_mutation  \n",
       "1  random_swap_mutation  \n",
       "2  random_swap_mutation  \n",
       "3  random_swap_mutation  \n",
       "4  random_swap_mutation  "
      ]
     },
     "execution_count": 5,
     "metadata": {},
     "output_type": "execute_result"
    }
   ],
   "source": [
    "df_final = pd.DataFrame().from_dict(f_logs)\n",
    "df_final.head()"
   ]
  },
  {
   "cell_type": "code",
   "execution_count": 71,
   "id": "0c0784a8-80b0-4629-8170-4869d2ad77de",
   "metadata": {},
   "outputs": [
    {
     "data": {
      "text/html": [
       "<div>\n",
       "<style scoped>\n",
       "    .dataframe tbody tr th:only-of-type {\n",
       "        vertical-align: middle;\n",
       "    }\n",
       "\n",
       "    .dataframe tbody tr th {\n",
       "        vertical-align: top;\n",
       "    }\n",
       "\n",
       "    .dataframe thead th {\n",
       "        text-align: right;\n",
       "    }\n",
       "</style>\n",
       "<table border=\"1\" class=\"dataframe\">\n",
       "  <thead>\n",
       "    <tr style=\"text-align: right;\">\n",
       "      <th></th>\n",
       "      <th>time</th>\n",
       "      <th>loop_time</th>\n",
       "      <th>best</th>\n",
       "      <th>selection</th>\n",
       "      <th>xo</th>\n",
       "      <th>mutation</th>\n",
       "      <th>inertia</th>\n",
       "    </tr>\n",
       "  </thead>\n",
       "  <tbody>\n",
       "    <tr>\n",
       "      <th>0</th>\n",
       "      <td>238.300086</td>\n",
       "      <td>[25.65622878074646, 22.744904279708862, 18.439...</td>\n",
       "      <td>[[0.572482795589442, 0.616151106892431, 0.5589...</td>\n",
       "      <td>elitist_selector</td>\n",
       "      <td>PNN</td>\n",
       "      <td>random_swap_mutation</td>\n",
       "      <td>24594.332973</td>\n",
       "    </tr>\n",
       "    <tr>\n",
       "      <th>1</th>\n",
       "      <td>270.374340</td>\n",
       "      <td>[24.326478719711304, 20.38233518600464, 25.697...</td>\n",
       "      <td>[[0.399085957885212, 0.4692869844803897, 0.519...</td>\n",
       "      <td>elitist_selector</td>\n",
       "      <td>PNN</td>\n",
       "      <td>random_swap_mutation</td>\n",
       "      <td>34687.608403</td>\n",
       "    </tr>\n",
       "    <tr>\n",
       "      <th>2</th>\n",
       "      <td>273.935669</td>\n",
       "      <td>[22.499300241470337, 20.722336292266846, 25.70...</td>\n",
       "      <td>[[0.39449645693708185, 0.4698947680997421, 0.5...</td>\n",
       "      <td>elitist_selector</td>\n",
       "      <td>PNN</td>\n",
       "      <td>random_swap_mutation</td>\n",
       "      <td>24582.735565</td>\n",
       "    </tr>\n",
       "    <tr>\n",
       "      <th>3</th>\n",
       "      <td>349.308173</td>\n",
       "      <td>[28.89338779449463, 21.612872838974, 24.201088...</td>\n",
       "      <td>[[0.5153669185295041, 0.5920158404245034, 0.53...</td>\n",
       "      <td>elitist_selector</td>\n",
       "      <td>PNN</td>\n",
       "      <td>random_swap_mutation</td>\n",
       "      <td>30109.687912</td>\n",
       "    </tr>\n",
       "    <tr>\n",
       "      <th>4</th>\n",
       "      <td>369.804610</td>\n",
       "      <td>[25.507760286331177, 24.475112199783325, 16.53...</td>\n",
       "      <td>[[0.5096078375692251, 0.5995223796014387, 0.54...</td>\n",
       "      <td>elitist_selector</td>\n",
       "      <td>PNN</td>\n",
       "      <td>random_swap_mutation</td>\n",
       "      <td>24545.565633</td>\n",
       "    </tr>\n",
       "  </tbody>\n",
       "</table>\n",
       "</div>"
      ],
      "text/plain": [
       "         time                                          loop_time  \\\n",
       "0  238.300086  [25.65622878074646, 22.744904279708862, 18.439...   \n",
       "1  270.374340  [24.326478719711304, 20.38233518600464, 25.697...   \n",
       "2  273.935669  [22.499300241470337, 20.722336292266846, 25.70...   \n",
       "3  349.308173  [28.89338779449463, 21.612872838974, 24.201088...   \n",
       "4  369.804610  [25.507760286331177, 24.475112199783325, 16.53...   \n",
       "\n",
       "                                                best         selection   xo  \\\n",
       "0  [[0.572482795589442, 0.616151106892431, 0.5589...  elitist_selector  PNN   \n",
       "1  [[0.399085957885212, 0.4692869844803897, 0.519...  elitist_selector  PNN   \n",
       "2  [[0.39449645693708185, 0.4698947680997421, 0.5...  elitist_selector  PNN   \n",
       "3  [[0.5153669185295041, 0.5920158404245034, 0.53...  elitist_selector  PNN   \n",
       "4  [[0.5096078375692251, 0.5995223796014387, 0.54...  elitist_selector  PNN   \n",
       "\n",
       "               mutation       inertia  \n",
       "0  random_swap_mutation  24594.332973  \n",
       "1  random_swap_mutation  34687.608403  \n",
       "2  random_swap_mutation  24582.735565  \n",
       "3  random_swap_mutation  30109.687912  \n",
       "4  random_swap_mutation  24545.565633  "
      ]
     },
     "execution_count": 71,
     "metadata": {},
     "output_type": "execute_result"
    }
   ],
   "source": [
    "df_final.loc[:, 'inertia'] = df_final.best.apply(lambda x: calculate_inertia(x, data))\n",
    "df_final.head()"
   ]
  },
  {
   "cell_type": "markdown",
   "id": "fb9e7c1d-ce3e-4f64-932b-14faa6316342",
   "metadata": {},
   "source": [
    "## Time of execution"
   ]
  },
  {
   "cell_type": "markdown",
   "id": "805a2b86-1acb-4dda-8409-f0fc9ef8df88",
   "metadata": {},
   "source": [
    "<font color='red'>There were 10 batches of 5 populations, totalling 50 independent runs.</font><br>\n",
    "All the runs were made in parallel with a 13th Gen i9 CPU.<br>\n",
    "The bottleneck was the **Crossover** step, most probably the application of Scikit-learn's KMeans. Its implementation allocates extra space in the memory and locks more than 1 thread. This could be observed by monitoring the CPU usage<br>\n",
    "<br>\n",
    "It is worth mentioning that we have coded an \"early stopping\" of sorts. And if, after 10 generations, the fitness didn't improve, the algorithm stops."
   ]
  },
  {
   "cell_type": "markdown",
   "id": "462208fd-200b-4207-ae71-774379ee8455",
   "metadata": {},
   "source": [
    "### Total time"
   ]
  },
  {
   "cell_type": "code",
   "execution_count": 17,
   "id": "6ba777b4-438f-4c46-b42d-7056fdaedbca",
   "metadata": {},
   "outputs": [],
   "source": [
    "mean_time_of_execution = df_final.time.mean()"
   ]
  },
  {
   "cell_type": "code",
   "execution_count": 20,
   "id": "5ecb5492-ff67-4165-83b9-31bea21653d0",
   "metadata": {},
   "outputs": [
    {
     "name": "stdout",
     "output_type": "stream",
     "text": [
      "Each batch of 5 population took, in average 324.25 seconds.\n"
     ]
    }
   ],
   "source": [
    "print(f'Each batch of 5 population took, in average {mean_time_of_execution:.2f} seconds.')"
   ]
  },
  {
   "cell_type": "markdown",
   "id": "6173a555-216f-4106-bf88-4f36d46e7c8e",
   "metadata": {},
   "source": [
    "The parallel execution approach paid off. By running the population individually, each individual run was taking roughly 120 seconds to complete."
   ]
  },
  {
   "cell_type": "code",
   "execution_count": 25,
   "id": "b86a2bfd-1c9f-4e6c-b1c0-efaa50af0db6",
   "metadata": {},
   "outputs": [
    {
     "name": "stdout",
     "output_type": "stream",
     "text": [
      "The improvement by running in parallel was 54.04%\n"
     ]
    }
   ],
   "source": [
    "print(f'The improvement by running in parallel was {(mean_time_of_execution / (5*120))*100:.2f}%')"
   ]
  },
  {
   "cell_type": "code",
   "execution_count": 27,
   "id": "6aa62fea-58ee-437a-93db-ecb0ebfc5473",
   "metadata": {},
   "outputs": [
    {
     "name": "stdout",
     "output_type": "stream",
     "text": [
      "The estimated total time of execution (for 50 runs) was: 3242.50 seconds.\n"
     ]
    }
   ],
   "source": [
    "print(f'The estimated total time of execution (for 50 runs) was: {mean_time_of_execution*10:.2f} seconds.')"
   ]
  },
  {
   "cell_type": "markdown",
   "id": "8d352bf4-6f39-41d1-9ddd-7b8136746d8f",
   "metadata": {},
   "source": [
    "### Loop time"
   ]
  },
  {
   "cell_type": "code",
   "execution_count": 42,
   "id": "ce82be44-0c91-4a66-a2f1-b9ed95be2189",
   "metadata": {},
   "outputs": [],
   "source": [
    "loop_time_mean = df_final.loop_time.apply(lambda x: np.mean(x)).mean()"
   ]
  },
  {
   "cell_type": "code",
   "execution_count": 43,
   "id": "519ae9d9-cc65-4fdd-a6d4-639840c0f6a2",
   "metadata": {},
   "outputs": [
    {
     "name": "stdout",
     "output_type": "stream",
     "text": [
      "The mean time of execution of each generation loop was 19.64 seconds.\n"
     ]
    }
   ],
   "source": [
    "print(f'The mean time of execution of each generation loop was {loop_time_mean:.2f} seconds.')"
   ]
  },
  {
   "cell_type": "code",
   "execution_count": 50,
   "id": "bf2c9ccb-f8c4-4020-80a2-6028e62e1bde",
   "metadata": {},
   "outputs": [],
   "source": [
    "loop_time_std = df_final.loop_time.apply(lambda x: np.std(x)).mean()"
   ]
  },
  {
   "cell_type": "code",
   "execution_count": 59,
   "id": "f353155d-3a63-4bd9-b930-ea21739ab7db",
   "metadata": {},
   "outputs": [
    {
     "name": "stdout",
     "output_type": "stream",
     "text": [
      "The standard deviation of time of execution of the generation loop was 6.30 seconds.\n"
     ]
    }
   ],
   "source": [
    "print(f'The standard deviation of time of execution of the generation loop was {loop_time_std:.2f} seconds.')"
   ]
  },
  {
   "cell_type": "markdown",
   "id": "afb55784-41c1-4a29-afcc-5dcde569567c",
   "metadata": {},
   "source": [
    "### Number of generations to converge"
   ]
  },
  {
   "cell_type": "code",
   "execution_count": 66,
   "id": "f3509e52-4fec-4a94-947e-fc365bc8a30d",
   "metadata": {},
   "outputs": [
    {
     "name": "stdout",
     "output_type": "stream",
     "text": [
      "The algorithm took, in average, 7 generations to converge.\n"
     ]
    }
   ],
   "source": [
    "print(f'The algorithm took, in average, {df_final.loop_time.apply(lambda x: len(x) - 10).mean():.0f} generations to converge.')"
   ]
  },
  {
   "cell_type": "markdown",
   "id": "3f32ceef-2c7d-493a-b381-96f273d876b8",
   "metadata": {},
   "source": [
    "## Metrics"
   ]
  },
  {
   "cell_type": "markdown",
   "id": "7afab696-6155-40c3-bba9-5ec06ec04e4f",
   "metadata": {},
   "source": [
    "### Best solution found"
   ]
  },
  {
   "cell_type": "code",
   "execution_count": 91,
   "id": "ae596c29-4bcc-4d57-a27b-baff40a52a3e",
   "metadata": {},
   "outputs": [],
   "source": [
    "best = df_final[df_final.inertia == df_final.inertia.min()]\n",
    "best_inertia = best.inertia.iloc[0]\n",
    "best_centroids = best.best.iloc[0]\n",
    "best_generations_to_converge = best.loop_time.apply(lambda x: len(x) - 10).iloc[0]"
   ]
  },
  {
   "cell_type": "code",
   "execution_count": 92,
   "id": "00954aee-d257-401b-8df9-5a07a35ed4ac",
   "metadata": {},
   "outputs": [
    {
     "name": "stdout",
     "output_type": "stream",
     "text": [
      "The best inertia was: 24533.45.\n"
     ]
    }
   ],
   "source": [
    "print(f'The best inertia was: {best_inertia:.2f}.')"
   ]
  },
  {
   "cell_type": "code",
   "execution_count": 93,
   "id": "c1472b92-2437-42ca-abe3-d92921b92acf",
   "metadata": {},
   "outputs": [
    {
     "name": "stdout",
     "output_type": "stream",
     "text": [
      "The best run took 6 generations to converge.\n"
     ]
    }
   ],
   "source": [
    "print(f'The best run took {best_generations_to_converge} generations to converge.')"
   ]
  },
  {
   "cell_type": "code",
   "execution_count": 97,
   "id": "7c136a46-8ab7-4387-8149-9c0b5e2c9618",
   "metadata": {},
   "outputs": [
    {
     "data": {
      "text/plain": [
       "labels\n",
       "1    0.273422\n",
       "2    0.260433\n",
       "3    0.242361\n",
       "0    0.223783\n",
       "Name: proportion, dtype: float64"
      ]
     },
     "execution_count": 97,
     "metadata": {},
     "output_type": "execute_result"
    }
   ],
   "source": [
    "get_cluster_distribution(best_centroids, data)"
   ]
  },
  {
   "cell_type": "code",
   "execution_count": 103,
   "id": "b9a458fa-6a09-404c-b63b-7848920a8c53",
   "metadata": {},
   "outputs": [
    {
     "data": {
      "text/plain": [
       "array([[0.56977874, 0.60622711, 0.55121396, 0.35920552, 0.12939079,\n",
       "        0.51391685, 0.66755455],\n",
       "       [0.51063327, 0.59817511, 0.53989838, 0.76862631, 0.16313677,\n",
       "        0.65843156, 0.70148711],\n",
       "       [0.40361735, 0.47195815, 0.52920241, 0.72225111, 0.76733847,\n",
       "        0.60911294, 0.39902535],\n",
       "       [0.48486117, 0.34432539, 0.44299391, 0.28710029, 0.86167361,\n",
       "        0.41389669, 0.21086879]])"
      ]
     },
     "execution_count": 103,
     "metadata": {},
     "output_type": "execute_result"
    }
   ],
   "source": [
    "best_centroids"
   ]
  },
  {
   "cell_type": "markdown",
   "id": "cd4f05b4-f1db-4157-a50f-667c0c0c6baa",
   "metadata": {},
   "source": [
    "### Dispersion metrics"
   ]
  },
  {
   "cell_type": "code",
   "execution_count": 101,
   "id": "d6deff05-9cee-420a-9629-7b4120cd704c",
   "metadata": {},
   "outputs": [],
   "source": [
    "worst_inertia = df_final.inertia.max()\n",
    "mean_inertia = df_final.inertia.mean()\n",
    "std_inertia = df_final.inertia.std()"
   ]
  },
  {
   "cell_type": "code",
   "execution_count": 102,
   "id": "572505f7-98bb-412b-96de-f992130537c9",
   "metadata": {},
   "outputs": [
    {
     "name": "stdout",
     "output_type": "stream",
     "text": [
      "The worst result was: 40909.98.\n",
      "The mean inertia was: 28317.25.\n",
      "The inertia standard deviation was: 4387.65.\n"
     ]
    }
   ],
   "source": [
    "print(f'The worst result was: {worst_inertia:.2f}.')\n",
    "print(f'The mean inertia was: {mean_inertia:.2f}.')\n",
    "print(f'The inertia standard deviation was: {std_inertia:.2f}.')"
   ]
  }
 ],
 "metadata": {
  "kernelspec": {
   "display_name": "Python 3 (ipykernel)",
   "language": "python",
   "name": "python3"
  },
  "language_info": {
   "codemirror_mode": {
    "name": "ipython",
    "version": 3
   },
   "file_extension": ".py",
   "mimetype": "text/x-python",
   "name": "python",
   "nbconvert_exporter": "python",
   "pygments_lexer": "ipython3",
   "version": "3.11.4"
  }
 },
 "nbformat": 4,
 "nbformat_minor": 5
}
