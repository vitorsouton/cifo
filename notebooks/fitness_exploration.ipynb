{
 "cells": [
  {
   "cell_type": "code",
   "execution_count": 19,
   "metadata": {},
   "outputs": [],
   "source": [
    "import pandas as pd\n",
    "import numpy as np"
   ]
  },
  {
   "cell_type": "code",
   "execution_count": 20,
   "metadata": {},
   "outputs": [
    {
     "data": {
      "text/html": [
       "<div>\n",
       "<style scoped>\n",
       "    .dataframe tbody tr th:only-of-type {\n",
       "        vertical-align: middle;\n",
       "    }\n",
       "\n",
       "    .dataframe tbody tr th {\n",
       "        vertical-align: top;\n",
       "    }\n",
       "\n",
       "    .dataframe thead th {\n",
       "        text-align: right;\n",
       "    }\n",
       "</style>\n",
       "<table border=\"1\" class=\"dataframe\">\n",
       "  <thead>\n",
       "    <tr style=\"text-align: right;\">\n",
       "      <th></th>\n",
       "      <th>duration_ms</th>\n",
       "      <th>loudness</th>\n",
       "      <th>tempo</th>\n",
       "      <th>valence</th>\n",
       "      <th>acousticness</th>\n",
       "      <th>danceability</th>\n",
       "      <th>energy</th>\n",
       "    </tr>\n",
       "  </thead>\n",
       "  <tbody>\n",
       "    <tr>\n",
       "      <th>0</th>\n",
       "      <td>0.403695</td>\n",
       "      <td>0.451467</td>\n",
       "      <td>0.178779</td>\n",
       "      <td>0.963</td>\n",
       "      <td>0.732</td>\n",
       "      <td>0.819</td>\n",
       "      <td>0.341</td>\n",
       "    </tr>\n",
       "    <tr>\n",
       "      <th>1</th>\n",
       "      <td>0.483304</td>\n",
       "      <td>0.557378</td>\n",
       "      <td>0.412301</td>\n",
       "      <td>0.165</td>\n",
       "      <td>0.967</td>\n",
       "      <td>0.275</td>\n",
       "      <td>0.309</td>\n",
       "    </tr>\n",
       "    <tr>\n",
       "      <th>2</th>\n",
       "      <td>0.366304</td>\n",
       "      <td>0.530943</td>\n",
       "      <td>0.421576</td>\n",
       "      <td>0.253</td>\n",
       "      <td>0.957</td>\n",
       "      <td>0.418</td>\n",
       "      <td>0.193</td>\n",
       "    </tr>\n",
       "    <tr>\n",
       "      <th>3</th>\n",
       "      <td>0.983312</td>\n",
       "      <td>0.449265</td>\n",
       "      <td>0.529827</td>\n",
       "      <td>0.196</td>\n",
       "      <td>0.579</td>\n",
       "      <td>0.697</td>\n",
       "      <td>0.346</td>\n",
       "    </tr>\n",
       "    <tr>\n",
       "      <th>4</th>\n",
       "      <td>0.346890</td>\n",
       "      <td>0.514234</td>\n",
       "      <td>0.210284</td>\n",
       "      <td>0.406</td>\n",
       "      <td>0.996</td>\n",
       "      <td>0.518</td>\n",
       "      <td>0.203</td>\n",
       "    </tr>\n",
       "  </tbody>\n",
       "</table>\n",
       "</div>"
      ],
      "text/plain": [
       "   duration_ms  loudness     tempo  valence  acousticness  danceability  \\\n",
       "0     0.403695  0.451467  0.178779    0.963         0.732         0.819   \n",
       "1     0.483304  0.557378  0.412301    0.165         0.967         0.275   \n",
       "2     0.366304  0.530943  0.421576    0.253         0.957         0.418   \n",
       "3     0.983312  0.449265  0.529827    0.196         0.579         0.697   \n",
       "4     0.346890  0.514234  0.210284    0.406         0.996         0.518   \n",
       "\n",
       "   energy  \n",
       "0   0.341  \n",
       "1   0.309  \n",
       "2   0.193  \n",
       "3   0.346  \n",
       "4   0.203  "
      ]
     },
     "execution_count": 20,
     "metadata": {},
     "output_type": "execute_result"
    }
   ],
   "source": [
    "df = pd.read_csv('../data/clean_data/clean_data.csv')\n",
    "df.head()"
   ]
  },
  {
   "cell_type": "code",
   "execution_count": 21,
   "metadata": {},
   "outputs": [],
   "source": [
    "centroids = [[0.40118221, 0.46624003, 0.51744981, 0.70963542, 0.79012851, 0.60273467, 0.3851394 ],\n",
    "    [0.48164248, 0.33969401, 0.43693327, 0.27518656, 0.86014028, 0.41197962, 0.20635644],\n",
    "    [0.56956841, 0.61102091, 0.55582269, 0.36707454, 0.12666305, 0.5119005 , 0.67812678],\n",
    "    [0.5071575 , 0.58991378, 0.53593763, 0.77240441, 0.17306617, 0.66401628, 0.68662776]]\n",
    "\n",
    "centroids = np.array(centroids)"
   ]
  },
  {
   "cell_type": "code",
   "execution_count": 35,
   "metadata": {},
   "outputs": [
    {
     "data": {
      "text/plain": [
       "24506.4852042995"
      ]
     },
     "execution_count": 35,
     "metadata": {},
     "output_type": "execute_result"
    }
   ],
   "source": [
    "from sklearn.metrics import DistanceMetric\n",
    "\n",
    "\n",
    "dist = DistanceMetric.get_metric('euclidean')\n",
    "distances = dist.pairwise(df, centroids) # To all centroids\n",
    "dist_idxs = np.argmin(distances, axis=1)# Labels\n",
    "\n",
    "distances = np.square(distances)\n",
    "np.min(distances, axis=1).sum()\n"
   ]
  },
  {
   "cell_type": "code",
   "execution_count": 17,
   "metadata": {},
   "outputs": [
    {
     "data": {
      "text/html": [
       "<div>\n",
       "<style scoped>\n",
       "    .dataframe tbody tr th:only-of-type {\n",
       "        vertical-align: middle;\n",
       "    }\n",
       "\n",
       "    .dataframe tbody tr th {\n",
       "        vertical-align: top;\n",
       "    }\n",
       "\n",
       "    .dataframe thead th {\n",
       "        text-align: right;\n",
       "    }\n",
       "</style>\n",
       "<table border=\"1\" class=\"dataframe\">\n",
       "  <thead>\n",
       "    <tr style=\"text-align: right;\">\n",
       "      <th></th>\n",
       "      <th>duration_ms</th>\n",
       "      <th>loudness</th>\n",
       "      <th>tempo</th>\n",
       "      <th>valence</th>\n",
       "      <th>acousticness</th>\n",
       "      <th>danceability</th>\n",
       "      <th>energy</th>\n",
       "    </tr>\n",
       "  </thead>\n",
       "  <tbody>\n",
       "    <tr>\n",
       "      <th>0</th>\n",
       "      <td>0.403695</td>\n",
       "      <td>0.451467</td>\n",
       "      <td>0.178779</td>\n",
       "      <td>0.963</td>\n",
       "      <td>0.732</td>\n",
       "      <td>0.819</td>\n",
       "      <td>0.341</td>\n",
       "    </tr>\n",
       "    <tr>\n",
       "      <th>1</th>\n",
       "      <td>0.483304</td>\n",
       "      <td>0.557378</td>\n",
       "      <td>0.412301</td>\n",
       "      <td>0.165</td>\n",
       "      <td>0.967</td>\n",
       "      <td>0.275</td>\n",
       "      <td>0.309</td>\n",
       "    </tr>\n",
       "    <tr>\n",
       "      <th>2</th>\n",
       "      <td>0.366304</td>\n",
       "      <td>0.530943</td>\n",
       "      <td>0.421576</td>\n",
       "      <td>0.253</td>\n",
       "      <td>0.957</td>\n",
       "      <td>0.418</td>\n",
       "      <td>0.193</td>\n",
       "    </tr>\n",
       "    <tr>\n",
       "      <th>3</th>\n",
       "      <td>0.983312</td>\n",
       "      <td>0.449265</td>\n",
       "      <td>0.529827</td>\n",
       "      <td>0.196</td>\n",
       "      <td>0.579</td>\n",
       "      <td>0.697</td>\n",
       "      <td>0.346</td>\n",
       "    </tr>\n",
       "    <tr>\n",
       "      <th>4</th>\n",
       "      <td>0.346890</td>\n",
       "      <td>0.514234</td>\n",
       "      <td>0.210284</td>\n",
       "      <td>0.406</td>\n",
       "      <td>0.996</td>\n",
       "      <td>0.518</td>\n",
       "      <td>0.203</td>\n",
       "    </tr>\n",
       "  </tbody>\n",
       "</table>\n",
       "</div>"
      ],
      "text/plain": [
       "   duration_ms  loudness     tempo  valence  acousticness  danceability  \\\n",
       "0     0.403695  0.451467  0.178779    0.963         0.732         0.819   \n",
       "1     0.483304  0.557378  0.412301    0.165         0.967         0.275   \n",
       "2     0.366304  0.530943  0.421576    0.253         0.957         0.418   \n",
       "3     0.983312  0.449265  0.529827    0.196         0.579         0.697   \n",
       "4     0.346890  0.514234  0.210284    0.406         0.996         0.518   \n",
       "\n",
       "   energy  \n",
       "0   0.341  \n",
       "1   0.309  \n",
       "2   0.193  \n",
       "3   0.346  \n",
       "4   0.203  "
      ]
     },
     "execution_count": 17,
     "metadata": {},
     "output_type": "execute_result"
    }
   ],
   "source": [
    "df.head()"
   ]
  }
 ],
 "metadata": {
  "kernelspec": {
   "display_name": "cifo",
   "language": "python",
   "name": "python3"
  },
  "language_info": {
   "codemirror_mode": {
    "name": "ipython",
    "version": 3
   },
   "file_extension": ".py",
   "mimetype": "text/x-python",
   "name": "python",
   "nbconvert_exporter": "python",
   "pygments_lexer": "ipython3",
   "version": "3.11.4"
  }
 },
 "nbformat": 4,
 "nbformat_minor": 2
}
