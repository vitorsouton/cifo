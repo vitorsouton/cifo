{
 "cells": [
  {
   "cell_type": "code",
   "execution_count": 13,
   "id": "5ce9c082-3e1c-42df-8c75-4560afa20c98",
   "metadata": {},
   "outputs": [],
   "source": [
    "import pandas as pd\n",
    "import numpy as np\n",
    "import matplotlib.pyplot as plt"
   ]
  },
  {
   "cell_type": "code",
   "execution_count": 23,
   "id": "af4c7f0e-ee7c-4c1c-b906-c3d9df503288",
   "metadata": {},
   "outputs": [
    {
     "data": {
      "text/html": [
       "<div>\n",
       "<style scoped>\n",
       "    .dataframe tbody tr th:only-of-type {\n",
       "        vertical-align: middle;\n",
       "    }\n",
       "\n",
       "    .dataframe tbody tr th {\n",
       "        vertical-align: top;\n",
       "    }\n",
       "\n",
       "    .dataframe thead th {\n",
       "        text-align: right;\n",
       "    }\n",
       "</style>\n",
       "<table border=\"1\" class=\"dataframe\">\n",
       "  <thead>\n",
       "    <tr style=\"text-align: right;\">\n",
       "      <th></th>\n",
       "      <th>valence</th>\n",
       "      <th>year</th>\n",
       "      <th>acousticness</th>\n",
       "      <th>artists</th>\n",
       "      <th>danceability</th>\n",
       "      <th>duration_ms</th>\n",
       "      <th>energy</th>\n",
       "      <th>explicit</th>\n",
       "      <th>id</th>\n",
       "      <th>instrumentalness</th>\n",
       "      <th>key</th>\n",
       "      <th>liveness</th>\n",
       "      <th>loudness</th>\n",
       "      <th>mode</th>\n",
       "      <th>name</th>\n",
       "      <th>popularity</th>\n",
       "      <th>release_date</th>\n",
       "      <th>speechiness</th>\n",
       "      <th>tempo</th>\n",
       "    </tr>\n",
       "  </thead>\n",
       "  <tbody>\n",
       "    <tr>\n",
       "      <th>0</th>\n",
       "      <td>0.0594</td>\n",
       "      <td>1921</td>\n",
       "      <td>0.982</td>\n",
       "      <td>['Sergei Rachmaninoff', 'James Levine', 'Berli...</td>\n",
       "      <td>0.279</td>\n",
       "      <td>831667</td>\n",
       "      <td>0.211</td>\n",
       "      <td>0</td>\n",
       "      <td>4BJqT0PrAfrxzMOxytFOIz</td>\n",
       "      <td>0.878000</td>\n",
       "      <td>10</td>\n",
       "      <td>0.665</td>\n",
       "      <td>-20.096</td>\n",
       "      <td>1</td>\n",
       "      <td>Piano Concerto No. 3 in D Minor, Op. 30: III. ...</td>\n",
       "      <td>4</td>\n",
       "      <td>1921</td>\n",
       "      <td>0.0366</td>\n",
       "      <td>80.954</td>\n",
       "    </tr>\n",
       "    <tr>\n",
       "      <th>1</th>\n",
       "      <td>0.9630</td>\n",
       "      <td>1921</td>\n",
       "      <td>0.732</td>\n",
       "      <td>['Dennis Day']</td>\n",
       "      <td>0.819</td>\n",
       "      <td>180533</td>\n",
       "      <td>0.341</td>\n",
       "      <td>0</td>\n",
       "      <td>7xPhfUan2yNtyFG0cUWkt8</td>\n",
       "      <td>0.000000</td>\n",
       "      <td>7</td>\n",
       "      <td>0.160</td>\n",
       "      <td>-12.441</td>\n",
       "      <td>1</td>\n",
       "      <td>Clancy Lowered the Boom</td>\n",
       "      <td>5</td>\n",
       "      <td>1921</td>\n",
       "      <td>0.4150</td>\n",
       "      <td>60.936</td>\n",
       "    </tr>\n",
       "    <tr>\n",
       "      <th>2</th>\n",
       "      <td>0.0394</td>\n",
       "      <td>1921</td>\n",
       "      <td>0.961</td>\n",
       "      <td>['KHP Kridhamardawa Karaton Ngayogyakarta Hadi...</td>\n",
       "      <td>0.328</td>\n",
       "      <td>500062</td>\n",
       "      <td>0.166</td>\n",
       "      <td>0</td>\n",
       "      <td>1o6I8BglA6ylDMrIELygv1</td>\n",
       "      <td>0.913000</td>\n",
       "      <td>3</td>\n",
       "      <td>0.101</td>\n",
       "      <td>-14.850</td>\n",
       "      <td>1</td>\n",
       "      <td>Gati Bali</td>\n",
       "      <td>5</td>\n",
       "      <td>1921</td>\n",
       "      <td>0.0339</td>\n",
       "      <td>110.339</td>\n",
       "    </tr>\n",
       "    <tr>\n",
       "      <th>3</th>\n",
       "      <td>0.1650</td>\n",
       "      <td>1921</td>\n",
       "      <td>0.967</td>\n",
       "      <td>['Frank Parker']</td>\n",
       "      <td>0.275</td>\n",
       "      <td>210000</td>\n",
       "      <td>0.309</td>\n",
       "      <td>0</td>\n",
       "      <td>3ftBPsC5vPBKxYSee08FDH</td>\n",
       "      <td>0.000028</td>\n",
       "      <td>5</td>\n",
       "      <td>0.381</td>\n",
       "      <td>-9.316</td>\n",
       "      <td>1</td>\n",
       "      <td>Danny Boy</td>\n",
       "      <td>3</td>\n",
       "      <td>1921</td>\n",
       "      <td>0.0354</td>\n",
       "      <td>100.109</td>\n",
       "    </tr>\n",
       "    <tr>\n",
       "      <th>4</th>\n",
       "      <td>0.2530</td>\n",
       "      <td>1921</td>\n",
       "      <td>0.957</td>\n",
       "      <td>['Phil Regan']</td>\n",
       "      <td>0.418</td>\n",
       "      <td>166693</td>\n",
       "      <td>0.193</td>\n",
       "      <td>0</td>\n",
       "      <td>4d6HGyGT8e121BsdKmw9v6</td>\n",
       "      <td>0.000002</td>\n",
       "      <td>3</td>\n",
       "      <td>0.229</td>\n",
       "      <td>-10.096</td>\n",
       "      <td>1</td>\n",
       "      <td>When Irish Eyes Are Smiling</td>\n",
       "      <td>2</td>\n",
       "      <td>1921</td>\n",
       "      <td>0.0380</td>\n",
       "      <td>101.665</td>\n",
       "    </tr>\n",
       "  </tbody>\n",
       "</table>\n",
       "</div>"
      ],
      "text/plain": [
       "   valence  year  acousticness  \\\n",
       "0   0.0594  1921         0.982   \n",
       "1   0.9630  1921         0.732   \n",
       "2   0.0394  1921         0.961   \n",
       "3   0.1650  1921         0.967   \n",
       "4   0.2530  1921         0.957   \n",
       "\n",
       "                                             artists  danceability  \\\n",
       "0  ['Sergei Rachmaninoff', 'James Levine', 'Berli...         0.279   \n",
       "1                                     ['Dennis Day']         0.819   \n",
       "2  ['KHP Kridhamardawa Karaton Ngayogyakarta Hadi...         0.328   \n",
       "3                                   ['Frank Parker']         0.275   \n",
       "4                                     ['Phil Regan']         0.418   \n",
       "\n",
       "   duration_ms  energy  explicit                      id  instrumentalness  \\\n",
       "0       831667   0.211         0  4BJqT0PrAfrxzMOxytFOIz          0.878000   \n",
       "1       180533   0.341         0  7xPhfUan2yNtyFG0cUWkt8          0.000000   \n",
       "2       500062   0.166         0  1o6I8BglA6ylDMrIELygv1          0.913000   \n",
       "3       210000   0.309         0  3ftBPsC5vPBKxYSee08FDH          0.000028   \n",
       "4       166693   0.193         0  4d6HGyGT8e121BsdKmw9v6          0.000002   \n",
       "\n",
       "   key  liveness  loudness  mode  \\\n",
       "0   10     0.665   -20.096     1   \n",
       "1    7     0.160   -12.441     1   \n",
       "2    3     0.101   -14.850     1   \n",
       "3    5     0.381    -9.316     1   \n",
       "4    3     0.229   -10.096     1   \n",
       "\n",
       "                                                name  popularity release_date  \\\n",
       "0  Piano Concerto No. 3 in D Minor, Op. 30: III. ...           4         1921   \n",
       "1                            Clancy Lowered the Boom           5         1921   \n",
       "2                                          Gati Bali           5         1921   \n",
       "3                                          Danny Boy           3         1921   \n",
       "4                        When Irish Eyes Are Smiling           2         1921   \n",
       "\n",
       "   speechiness    tempo  \n",
       "0       0.0366   80.954  \n",
       "1       0.4150   60.936  \n",
       "2       0.0339  110.339  \n",
       "3       0.0354  100.109  \n",
       "4       0.0380  101.665  "
      ]
     },
     "execution_count": 23,
     "metadata": {},
     "output_type": "execute_result"
    }
   ],
   "source": [
    "df = pd.read_csv('../data/raw_data/data.csv')\n",
    "df.head()"
   ]
  },
  {
   "cell_type": "code",
   "execution_count": 24,
   "id": "548cabb9-8b20-4c15-8cd3-1a4f9d9c0d72",
   "metadata": {},
   "outputs": [
    {
     "data": {
      "text/plain": [
       "(170653, 19)"
      ]
     },
     "execution_count": 24,
     "metadata": {},
     "output_type": "execute_result"
    }
   ],
   "source": [
    "df.shape"
   ]
  },
  {
   "cell_type": "markdown",
   "id": "2dd3644e-cb3e-4b7d-a1cc-80dd1ec498a2",
   "metadata": {},
   "source": [
    "# Exploration / Outlier cleaning"
   ]
  },
  {
   "cell_type": "code",
   "execution_count": 25,
   "id": "e9c44183-8fcf-489c-9a37-4c16f21b5ac8",
   "metadata": {},
   "outputs": [
    {
     "data": {
      "text/plain": [
       "valence             0\n",
       "year                0\n",
       "acousticness        0\n",
       "artists             0\n",
       "danceability        0\n",
       "duration_ms         0\n",
       "energy              0\n",
       "explicit            0\n",
       "id                  0\n",
       "instrumentalness    0\n",
       "key                 0\n",
       "liveness            0\n",
       "loudness            0\n",
       "mode                0\n",
       "name                0\n",
       "popularity          0\n",
       "release_date        0\n",
       "speechiness         0\n",
       "tempo               0\n",
       "dtype: int64"
      ]
     },
     "execution_count": 25,
     "metadata": {},
     "output_type": "execute_result"
    }
   ],
   "source": [
    "df.isna().sum()"
   ]
  },
  {
   "cell_type": "code",
   "execution_count": 26,
   "id": "102596a4-0761-47aa-bbd1-a849d1fd0cd1",
   "metadata": {},
   "outputs": [
    {
     "data": {
      "text/html": [
       "<div>\n",
       "<style scoped>\n",
       "    .dataframe tbody tr th:only-of-type {\n",
       "        vertical-align: middle;\n",
       "    }\n",
       "\n",
       "    .dataframe tbody tr th {\n",
       "        vertical-align: top;\n",
       "    }\n",
       "\n",
       "    .dataframe thead th {\n",
       "        text-align: right;\n",
       "    }\n",
       "</style>\n",
       "<table border=\"1\" class=\"dataframe\">\n",
       "  <thead>\n",
       "    <tr style=\"text-align: right;\">\n",
       "      <th></th>\n",
       "      <th>valence</th>\n",
       "      <th>year</th>\n",
       "      <th>acousticness</th>\n",
       "      <th>danceability</th>\n",
       "      <th>duration_ms</th>\n",
       "      <th>energy</th>\n",
       "      <th>explicit</th>\n",
       "      <th>instrumentalness</th>\n",
       "      <th>key</th>\n",
       "      <th>liveness</th>\n",
       "      <th>loudness</th>\n",
       "      <th>mode</th>\n",
       "      <th>popularity</th>\n",
       "      <th>speechiness</th>\n",
       "      <th>tempo</th>\n",
       "    </tr>\n",
       "  </thead>\n",
       "  <tbody>\n",
       "    <tr>\n",
       "      <th>0</th>\n",
       "      <td>0.0594</td>\n",
       "      <td>1921</td>\n",
       "      <td>0.982</td>\n",
       "      <td>0.279</td>\n",
       "      <td>831667</td>\n",
       "      <td>0.211</td>\n",
       "      <td>0</td>\n",
       "      <td>0.878000</td>\n",
       "      <td>10</td>\n",
       "      <td>0.665</td>\n",
       "      <td>-20.096</td>\n",
       "      <td>1</td>\n",
       "      <td>4</td>\n",
       "      <td>0.0366</td>\n",
       "      <td>80.954</td>\n",
       "    </tr>\n",
       "    <tr>\n",
       "      <th>1</th>\n",
       "      <td>0.9630</td>\n",
       "      <td>1921</td>\n",
       "      <td>0.732</td>\n",
       "      <td>0.819</td>\n",
       "      <td>180533</td>\n",
       "      <td>0.341</td>\n",
       "      <td>0</td>\n",
       "      <td>0.000000</td>\n",
       "      <td>7</td>\n",
       "      <td>0.160</td>\n",
       "      <td>-12.441</td>\n",
       "      <td>1</td>\n",
       "      <td>5</td>\n",
       "      <td>0.4150</td>\n",
       "      <td>60.936</td>\n",
       "    </tr>\n",
       "    <tr>\n",
       "      <th>2</th>\n",
       "      <td>0.0394</td>\n",
       "      <td>1921</td>\n",
       "      <td>0.961</td>\n",
       "      <td>0.328</td>\n",
       "      <td>500062</td>\n",
       "      <td>0.166</td>\n",
       "      <td>0</td>\n",
       "      <td>0.913000</td>\n",
       "      <td>3</td>\n",
       "      <td>0.101</td>\n",
       "      <td>-14.850</td>\n",
       "      <td>1</td>\n",
       "      <td>5</td>\n",
       "      <td>0.0339</td>\n",
       "      <td>110.339</td>\n",
       "    </tr>\n",
       "    <tr>\n",
       "      <th>3</th>\n",
       "      <td>0.1650</td>\n",
       "      <td>1921</td>\n",
       "      <td>0.967</td>\n",
       "      <td>0.275</td>\n",
       "      <td>210000</td>\n",
       "      <td>0.309</td>\n",
       "      <td>0</td>\n",
       "      <td>0.000028</td>\n",
       "      <td>5</td>\n",
       "      <td>0.381</td>\n",
       "      <td>-9.316</td>\n",
       "      <td>1</td>\n",
       "      <td>3</td>\n",
       "      <td>0.0354</td>\n",
       "      <td>100.109</td>\n",
       "    </tr>\n",
       "    <tr>\n",
       "      <th>4</th>\n",
       "      <td>0.2530</td>\n",
       "      <td>1921</td>\n",
       "      <td>0.957</td>\n",
       "      <td>0.418</td>\n",
       "      <td>166693</td>\n",
       "      <td>0.193</td>\n",
       "      <td>0</td>\n",
       "      <td>0.000002</td>\n",
       "      <td>3</td>\n",
       "      <td>0.229</td>\n",
       "      <td>-10.096</td>\n",
       "      <td>1</td>\n",
       "      <td>2</td>\n",
       "      <td>0.0380</td>\n",
       "      <td>101.665</td>\n",
       "    </tr>\n",
       "  </tbody>\n",
       "</table>\n",
       "</div>"
      ],
      "text/plain": [
       "   valence  year  acousticness  danceability  duration_ms  energy  explicit  \\\n",
       "0   0.0594  1921         0.982         0.279       831667   0.211         0   \n",
       "1   0.9630  1921         0.732         0.819       180533   0.341         0   \n",
       "2   0.0394  1921         0.961         0.328       500062   0.166         0   \n",
       "3   0.1650  1921         0.967         0.275       210000   0.309         0   \n",
       "4   0.2530  1921         0.957         0.418       166693   0.193         0   \n",
       "\n",
       "   instrumentalness  key  liveness  loudness  mode  popularity  speechiness  \\\n",
       "0          0.878000   10     0.665   -20.096     1           4       0.0366   \n",
       "1          0.000000    7     0.160   -12.441     1           5       0.4150   \n",
       "2          0.913000    3     0.101   -14.850     1           5       0.0339   \n",
       "3          0.000028    5     0.381    -9.316     1           3       0.0354   \n",
       "4          0.000002    3     0.229   -10.096     1           2       0.0380   \n",
       "\n",
       "     tempo  \n",
       "0   80.954  \n",
       "1   60.936  \n",
       "2  110.339  \n",
       "3  100.109  \n",
       "4  101.665  "
      ]
     },
     "execution_count": 26,
     "metadata": {},
     "output_type": "execute_result"
    }
   ],
   "source": [
    "# Keep only numerical features\n",
    "df = df.select_dtypes(include=np.number)\n",
    "df.head()"
   ]
  },
  {
   "cell_type": "code",
   "execution_count": 27,
   "id": "f8332804-7b44-4923-ae7f-aaf632e9ae45",
   "metadata": {},
   "outputs": [
    {
     "data": {
      "text/html": [
       "<div>\n",
       "<style scoped>\n",
       "    .dataframe tbody tr th:only-of-type {\n",
       "        vertical-align: middle;\n",
       "    }\n",
       "\n",
       "    .dataframe tbody tr th {\n",
       "        vertical-align: top;\n",
       "    }\n",
       "\n",
       "    .dataframe thead th {\n",
       "        text-align: right;\n",
       "    }\n",
       "</style>\n",
       "<table border=\"1\" class=\"dataframe\">\n",
       "  <thead>\n",
       "    <tr style=\"text-align: right;\">\n",
       "      <th></th>\n",
       "      <th>valence</th>\n",
       "      <th>acousticness</th>\n",
       "      <th>danceability</th>\n",
       "      <th>duration_ms</th>\n",
       "      <th>energy</th>\n",
       "      <th>instrumentalness</th>\n",
       "      <th>liveness</th>\n",
       "      <th>loudness</th>\n",
       "      <th>speechiness</th>\n",
       "      <th>tempo</th>\n",
       "    </tr>\n",
       "  </thead>\n",
       "  <tbody>\n",
       "    <tr>\n",
       "      <th>0</th>\n",
       "      <td>0.0594</td>\n",
       "      <td>0.982</td>\n",
       "      <td>0.279</td>\n",
       "      <td>831667</td>\n",
       "      <td>0.211</td>\n",
       "      <td>0.878000</td>\n",
       "      <td>0.665</td>\n",
       "      <td>-20.096</td>\n",
       "      <td>0.0366</td>\n",
       "      <td>80.954</td>\n",
       "    </tr>\n",
       "    <tr>\n",
       "      <th>1</th>\n",
       "      <td>0.9630</td>\n",
       "      <td>0.732</td>\n",
       "      <td>0.819</td>\n",
       "      <td>180533</td>\n",
       "      <td>0.341</td>\n",
       "      <td>0.000000</td>\n",
       "      <td>0.160</td>\n",
       "      <td>-12.441</td>\n",
       "      <td>0.4150</td>\n",
       "      <td>60.936</td>\n",
       "    </tr>\n",
       "    <tr>\n",
       "      <th>2</th>\n",
       "      <td>0.0394</td>\n",
       "      <td>0.961</td>\n",
       "      <td>0.328</td>\n",
       "      <td>500062</td>\n",
       "      <td>0.166</td>\n",
       "      <td>0.913000</td>\n",
       "      <td>0.101</td>\n",
       "      <td>-14.850</td>\n",
       "      <td>0.0339</td>\n",
       "      <td>110.339</td>\n",
       "    </tr>\n",
       "    <tr>\n",
       "      <th>3</th>\n",
       "      <td>0.1650</td>\n",
       "      <td>0.967</td>\n",
       "      <td>0.275</td>\n",
       "      <td>210000</td>\n",
       "      <td>0.309</td>\n",
       "      <td>0.000028</td>\n",
       "      <td>0.381</td>\n",
       "      <td>-9.316</td>\n",
       "      <td>0.0354</td>\n",
       "      <td>100.109</td>\n",
       "    </tr>\n",
       "    <tr>\n",
       "      <th>4</th>\n",
       "      <td>0.2530</td>\n",
       "      <td>0.957</td>\n",
       "      <td>0.418</td>\n",
       "      <td>166693</td>\n",
       "      <td>0.193</td>\n",
       "      <td>0.000002</td>\n",
       "      <td>0.229</td>\n",
       "      <td>-10.096</td>\n",
       "      <td>0.0380</td>\n",
       "      <td>101.665</td>\n",
       "    </tr>\n",
       "  </tbody>\n",
       "</table>\n",
       "</div>"
      ],
      "text/plain": [
       "   valence  acousticness  danceability  duration_ms  energy  instrumentalness  \\\n",
       "0   0.0594         0.982         0.279       831667   0.211          0.878000   \n",
       "1   0.9630         0.732         0.819       180533   0.341          0.000000   \n",
       "2   0.0394         0.961         0.328       500062   0.166          0.913000   \n",
       "3   0.1650         0.967         0.275       210000   0.309          0.000028   \n",
       "4   0.2530         0.957         0.418       166693   0.193          0.000002   \n",
       "\n",
       "   liveness  loudness  speechiness    tempo  \n",
       "0     0.665   -20.096       0.0366   80.954  \n",
       "1     0.160   -12.441       0.4150   60.936  \n",
       "2     0.101   -14.850       0.0339  110.339  \n",
       "3     0.381    -9.316       0.0354  100.109  \n",
       "4     0.229   -10.096       0.0380  101.665  "
      ]
     },
     "execution_count": 27,
     "metadata": {},
     "output_type": "execute_result"
    }
   ],
   "source": [
    "# Get rid of categorical features and year\n",
    "# To remove: Year, Explicit, Key, mode, popularity\n",
    "\n",
    "df = df.drop(columns=['year', 'explicit', 'key', 'mode', 'popularity'])\n",
    "df.head()"
   ]
  },
  {
   "cell_type": "code",
   "execution_count": 28,
   "id": "df003358-1888-49a5-950f-6f43612c9371",
   "metadata": {},
   "outputs": [],
   "source": [
    "# The distribution of both columns does not give opportunity for extracting meaningful information, in a first moment\n",
    "df = df.drop(columns=['speechiness', 'instrumentalness'])"
   ]
  },
  {
   "cell_type": "markdown",
   "id": "0180f659-0eee-4b4c-b083-b3f5cf861ca6",
   "metadata": {},
   "source": [
    "## Outliers"
   ]
  },
  {
   "cell_type": "code",
   "execution_count": 29,
   "id": "65bc00c0-d1e3-4bd4-8d46-c53de67b8eab",
   "metadata": {},
   "outputs": [],
   "source": [
    "# By IQR method\n",
    "\n",
    "q25, q75 = df.select_dtypes(include=np.number).quantile(0.25), df.select_dtypes(include=np.number).quantile(0.75)\n",
    "iqr = q75 - q25\n",
    "\n",
    "cut_off = iqr * 1.5\n",
    "lower, upper = q25 - cut_off, q75 + cut_off"
   ]
  },
  {
   "cell_type": "code",
   "execution_count": 30,
   "id": "76d8cf9b-b070-408d-a6d4-2bce50c7ec91",
   "metadata": {},
   "outputs": [
    {
     "data": {
      "text/plain": [
       "0.8566799294474753"
      ]
     },
     "execution_count": 30,
     "metadata": {},
     "output_type": "execute_result"
    }
   ],
   "source": [
    "# 15% removal for our purpose is acceptable\n",
    "df[(df > lower) & (df < upper)].dropna().shape[0] / df.shape[0]"
   ]
  },
  {
   "cell_type": "code",
   "execution_count": 31,
   "id": "c647f535-b76d-48cc-aaf7-1cc7162e887e",
   "metadata": {},
   "outputs": [
    {
     "data": {
      "text/plain": [
       "(146195, 8)"
      ]
     },
     "execution_count": 31,
     "metadata": {},
     "output_type": "execute_result"
    }
   ],
   "source": [
    "df = df[(df > lower) & (df < upper)].dropna()\n",
    "df.shape"
   ]
  },
  {
   "cell_type": "code",
   "execution_count": 33,
   "id": "dfe57fd4-d2a6-4a5d-94b5-8d274438900c",
   "metadata": {},
   "outputs": [],
   "source": [
    "df.to_csv('../data/clean_data/original_data.csv')"
   ]
  },
  {
   "cell_type": "markdown",
   "id": "1fba3f53-a7e5-4856-957c-217503427dd1",
   "metadata": {},
   "source": [
    "## MinMax scaling"
   ]
  },
  {
   "cell_type": "code",
   "execution_count": 63,
   "id": "3a02b846-a21b-4214-a85e-3e4c91adbac6",
   "metadata": {},
   "outputs": [
    {
     "data": {
      "text/html": [
       "<div>\n",
       "<style scoped>\n",
       "    .dataframe tbody tr th:only-of-type {\n",
       "        vertical-align: middle;\n",
       "    }\n",
       "\n",
       "    .dataframe tbody tr th {\n",
       "        vertical-align: top;\n",
       "    }\n",
       "\n",
       "    .dataframe thead th {\n",
       "        text-align: right;\n",
       "    }\n",
       "</style>\n",
       "<table border=\"1\" class=\"dataframe\">\n",
       "  <thead>\n",
       "    <tr style=\"text-align: right;\">\n",
       "      <th></th>\n",
       "      <th>valence</th>\n",
       "      <th>acousticness</th>\n",
       "      <th>danceability</th>\n",
       "      <th>duration_ms</th>\n",
       "      <th>energy</th>\n",
       "      <th>liveness</th>\n",
       "      <th>loudness</th>\n",
       "      <th>tempo</th>\n",
       "    </tr>\n",
       "  </thead>\n",
       "  <tbody>\n",
       "    <tr>\n",
       "      <th>1</th>\n",
       "      <td>0.963</td>\n",
       "      <td>0.732</td>\n",
       "      <td>0.819</td>\n",
       "      <td>180533.0</td>\n",
       "      <td>0.341</td>\n",
       "      <td>0.160</td>\n",
       "      <td>-12.441</td>\n",
       "      <td>60.936</td>\n",
       "    </tr>\n",
       "    <tr>\n",
       "      <th>3</th>\n",
       "      <td>0.165</td>\n",
       "      <td>0.967</td>\n",
       "      <td>0.275</td>\n",
       "      <td>210000.0</td>\n",
       "      <td>0.309</td>\n",
       "      <td>0.381</td>\n",
       "      <td>-9.316</td>\n",
       "      <td>100.109</td>\n",
       "    </tr>\n",
       "    <tr>\n",
       "      <th>4</th>\n",
       "      <td>0.253</td>\n",
       "      <td>0.957</td>\n",
       "      <td>0.418</td>\n",
       "      <td>166693.0</td>\n",
       "      <td>0.193</td>\n",
       "      <td>0.229</td>\n",
       "      <td>-10.096</td>\n",
       "      <td>101.665</td>\n",
       "    </tr>\n",
       "    <tr>\n",
       "      <th>5</th>\n",
       "      <td>0.196</td>\n",
       "      <td>0.579</td>\n",
       "      <td>0.697</td>\n",
       "      <td>395076.0</td>\n",
       "      <td>0.346</td>\n",
       "      <td>0.130</td>\n",
       "      <td>-12.506</td>\n",
       "      <td>119.824</td>\n",
       "    </tr>\n",
       "    <tr>\n",
       "      <th>6</th>\n",
       "      <td>0.406</td>\n",
       "      <td>0.996</td>\n",
       "      <td>0.518</td>\n",
       "      <td>159507.0</td>\n",
       "      <td>0.203</td>\n",
       "      <td>0.115</td>\n",
       "      <td>-10.589</td>\n",
       "      <td>66.221</td>\n",
       "    </tr>\n",
       "  </tbody>\n",
       "</table>\n",
       "</div>"
      ],
      "text/plain": [
       "   valence  acousticness  danceability  duration_ms  energy  liveness  \\\n",
       "1    0.963         0.732         0.819     180533.0   0.341     0.160   \n",
       "3    0.165         0.967         0.275     210000.0   0.309     0.381   \n",
       "4    0.253         0.957         0.418     166693.0   0.193     0.229   \n",
       "5    0.196         0.579         0.697     395076.0   0.346     0.130   \n",
       "6    0.406         0.996         0.518     159507.0   0.203     0.115   \n",
       "\n",
       "   loudness    tempo  \n",
       "1   -12.441   60.936  \n",
       "3    -9.316  100.109  \n",
       "4   -10.096  101.665  \n",
       "5   -12.506  119.824  \n",
       "6   -10.589   66.221  "
      ]
     },
     "execution_count": 63,
     "metadata": {},
     "output_type": "execute_result"
    }
   ],
   "source": [
    "df.head()"
   ]
  },
  {
   "cell_type": "code",
   "execution_count": 65,
   "id": "dd37f19c-5afa-488a-ad9f-a147a58b796f",
   "metadata": {},
   "outputs": [
    {
     "data": {
      "text/plain": [
       "(valence             0.00000\n",
       " acousticness        0.00000\n",
       " danceability        0.05690\n",
       " duration_ms     31107.00000\n",
       " energy              0.00024\n",
       " liveness            0.00967\n",
       " loudness          -25.76200\n",
       " tempo              30.94600\n",
       " dtype: float64,\n",
       " valence              1.000\n",
       " acousticness         0.996\n",
       " danceability         0.988\n",
       " duration_ms     401253.000\n",
       " energy               1.000\n",
       " liveness             0.504\n",
       " loudness             3.744\n",
       " tempo              198.695\n",
       " dtype: float64)"
      ]
     },
     "execution_count": 65,
     "metadata": {},
     "output_type": "execute_result"
    }
   ],
   "source": [
    "df.min(), df.max()"
   ]
  },
  {
   "cell_type": "code",
   "execution_count": 66,
   "id": "4bef21c7-4ec6-4abe-b8e9-b2c0dc95dee1",
   "metadata": {},
   "outputs": [],
   "source": [
    "from sklearn.compose import ColumnTransformer\n",
    "from sklearn.preprocessing import MinMaxScaler\n",
    "\n",
    "# feats with values < 0 and/or > 1\n",
    "cols_to_norm = ['duration_ms', 'loudness', 'tempo']\n",
    "\n",
    "\n",
    "pipe = ColumnTransformer([\n",
    "    ('scaler', MinMaxScaler(), cols_to_norm)\n",
    "], remainder='passthrough', n_jobs=-1, verbose_feature_names_out=False)\n",
    "pipe.set_output(transform='pandas')\n",
    "\n",
    "df = pipe.fit_transform(df)"
   ]
  },
  {
   "cell_type": "code",
   "execution_count": 69,
   "id": "76abf1e0-d59d-4389-9e06-1017bfffc280",
   "metadata": {},
   "outputs": [],
   "source": [
    "# Save preprocessing steps\n",
    "\n",
    "df.to_csv('../data/clean_data/clean_data.csv', index=False)"
   ]
  },
  {
   "cell_type": "code",
   "execution_count": 5,
   "id": "9137517f",
   "metadata": {},
   "outputs": [
    {
     "data": {
      "text/plain": [
       "[0, 7, 7, 3, 1, 0, 6, 6, 3, 10]"
      ]
     },
     "execution_count": 5,
     "metadata": {},
     "output_type": "execute_result"
    }
   ],
   "source": [
    "from random import randint, choice\n",
    "\n",
    "l = [randint(0, 10) for _ in range(10)]\n",
    "l"
   ]
  },
  {
   "cell_type": "code",
   "execution_count": 11,
   "id": "4ee54889",
   "metadata": {},
   "outputs": [
    {
     "data": {
      "text/plain": [
       "0"
      ]
     },
     "execution_count": 11,
     "metadata": {},
     "output_type": "execute_result"
    }
   ],
   "source": [
    "choice(sorted(l)[:5])"
   ]
  },
  {
   "cell_type": "code",
   "execution_count": 1,
   "id": "e3eed868",
   "metadata": {},
   "outputs": [],
   "source": [
    "test = {'hey': 'you'}"
   ]
  },
  {
   "cell_type": "code",
   "execution_count": 3,
   "id": "90598113",
   "metadata": {},
   "outputs": [],
   "source": [
    "import pickle\n",
    "\n",
    "with open(f'../data/logs/test_run.pkl', 'wb') as f:\n",
    "    pickle.dump(test, f)"
   ]
  },
  {
   "cell_type": "code",
   "execution_count": 4,
   "id": "1b54af77",
   "metadata": {},
   "outputs": [
    {
     "data": {
      "text/plain": [
       "{'hey': 'you'}"
      ]
     },
     "execution_count": 4,
     "metadata": {},
     "output_type": "execute_result"
    }
   ],
   "source": [
    "with open('../data/logs/test_run.pkl', 'rb') as f:\n",
    "    t = pickle.load(f)\n",
    "\n",
    "t"
   ]
  },
  {
   "cell_type": "code",
   "execution_count": 8,
   "id": "16b12ad0",
   "metadata": {},
   "outputs": [
    {
     "data": {
      "text/plain": [
       "'01-06-2024--20:50:23'"
      ]
     },
     "execution_count": 8,
     "metadata": {},
     "output_type": "execute_result"
    }
   ],
   "source": [
    "from datetime import datetime\n",
    "\n",
    "\n",
    "now = datetime.now()\n",
    "dt_string = now.strftime(\"%d-%m-%Y--%H:%M:%S\")\n",
    "dt_string"
   ]
  },
  {
   "cell_type": "code",
   "execution_count": 2,
   "id": "d823af95",
   "metadata": {},
   "outputs": [
    {
     "data": {
      "text/plain": [
       "{'time': [163.34431290626526, 281.2636909484863],\n",
       " 'loop_time': [[11.816162824630737,\n",
       "   9.589086055755615,\n",
       "   11.134979248046875,\n",
       "   11.798383474349976,\n",
       "   7.456634044647217,\n",
       "   9.118575096130371,\n",
       "   11.617857217788696,\n",
       "   6.9888081550598145,\n",
       "   8.694559574127197,\n",
       "   9.663926839828491,\n",
       "   10.342803001403809,\n",
       "   11.112212419509888,\n",
       "   8.3902428150177,\n",
       "   9.272813081741333,\n",
       "   6.769579172134399,\n",
       "   5.73211669921875,\n",
       "   13.84536337852478],\n",
       "  [11.174023628234863,\n",
       "   10.472558975219727,\n",
       "   11.035571813583374,\n",
       "   7.90897536277771,\n",
       "   2.7563834190368652,\n",
       "   6.711301565170288,\n",
       "   9.152772426605225,\n",
       "   8.365546941757202,\n",
       "   11.138970851898193,\n",
       "   10.448672533035278,\n",
       "   12.506198167800903,\n",
       "   11.723008871078491,\n",
       "   8.989989280700684,\n",
       "   9.773367643356323,\n",
       "   9.701823234558105,\n",
       "   13.110367774963379,\n",
       "   10.239613771438599,\n",
       "   10.679516315460205,\n",
       "   9.849774360656738,\n",
       "   6.970468759536743,\n",
       "   7.755408763885498,\n",
       "   4.855293273925781,\n",
       "   8.299432039260864,\n",
       "   7.509806394577026,\n",
       "   8.558347702026367,\n",
       "   4.894013166427612,\n",
       "   5.895321846008301,\n",
       "   5.576061248779297,\n",
       "   5.684476852416992,\n",
       "   11.243349552154541,\n",
       "   9.5755934715271,\n",
       "   8.70745849609375]],\n",
       " 'best': [array([[0.38882468, 0.46772652, 0.52062471, 0.7357551 , 0.84053347,\n",
       "          0.60265905, 0.3811002 ],\n",
       "         [0.38882468, 0.46772652, 0.52062471, 0.7357551 , 0.84053347,\n",
       "          0.60265905, 0.3811002 ],\n",
       "         [0.51222983, 0.59735348, 0.54018219, 0.76716817, 0.17184674,\n",
       "          0.65915306, 0.69671207],\n",
       "         [0.51204246, 0.46280643, 0.49947762, 0.39995917, 0.42958913,\n",
       "          0.55148109, 0.39506446],\n",
       "         [0.51222983, 0.59735348, 0.54018219, 0.76716817, 0.17184674,\n",
       "          0.65915306, 0.69671207]]),\n",
       "  array([[0.51168829, 0.60533155, 0.53674056, 0.80237277, 0.1812164 ,\n",
       "          0.67438455, 0.71029908],\n",
       "         [0.45850346, 0.31694054, 0.4255742 , 0.28204564, 0.90926278,\n",
       "          0.40302619, 0.17865124],\n",
       "         [0.56505967, 0.66026057, 0.59325503, 0.41269494, 0.0560308 ,\n",
       "          0.48722772, 0.8016401 ],\n",
       "         [0.45850346, 0.31694054, 0.4255742 , 0.28204564, 0.90926278,\n",
       "          0.40302619, 0.17865124],\n",
       "         [0.53608335, 0.48598067, 0.49686903, 0.42595873, 0.39274584,\n",
       "          0.56671314, 0.42716027]])],\n",
       " 'selection': ['elitist_selector', 'elitist_selector'],\n",
       " 'xo': ['PNN', 'PNN'],\n",
       " 'mutation': ['random_swap_mutation', 'random_swap_mutation']}"
      ]
     },
     "execution_count": 2,
     "metadata": {},
     "output_type": "execute_result"
    }
   ],
   "source": [
    "import pandas as pd\n",
    "import pickle\n",
    "\n",
    "with open('../data/logs/02-06-2024--00:42:10--ALGO-SELECTION.pkl', 'rb') as f:\n",
    "    d = pickle.load(f)\n",
    "\n",
    "d"
   ]
  },
  {
   "cell_type": "code",
   "execution_count": 5,
   "id": "befdcde9",
   "metadata": {},
   "outputs": [
    {
     "data": {
      "text/plain": [
       "(5, 7)"
      ]
     },
     "execution_count": 5,
     "metadata": {},
     "output_type": "execute_result"
    }
   ],
   "source": [
    "d['best'][0].shape"
   ]
  }
 ],
 "metadata": {
  "kernelspec": {
   "display_name": "Python 3 (ipykernel)",
   "language": "python",
   "name": "python3"
  },
  "language_info": {
   "codemirror_mode": {
    "name": "ipython",
    "version": 3
   },
   "file_extension": ".py",
   "mimetype": "text/x-python",
   "name": "python",
   "nbconvert_exporter": "python",
   "pygments_lexer": "ipython3",
   "version": "3.11.4"
  }
 },
 "nbformat": 4,
 "nbformat_minor": 5
}
