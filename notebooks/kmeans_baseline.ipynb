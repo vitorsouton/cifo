{
 "cells": [
  {
   "cell_type": "code",
   "execution_count": 1,
   "id": "0226e192-7b26-4cbc-813c-0ab6788257e3",
   "metadata": {},
   "outputs": [],
   "source": [
    "import pandas as pd\n",
    "import numpy as np\n",
    "import seaborn as sns\n",
    "import time"
   ]
  },
  {
   "cell_type": "code",
   "execution_count": 2,
   "id": "def473e1-8593-4291-b108-d4bbae797018",
   "metadata": {},
   "outputs": [
    {
     "data": {
      "text/html": [
       "<div>\n",
       "<style scoped>\n",
       "    .dataframe tbody tr th:only-of-type {\n",
       "        vertical-align: middle;\n",
       "    }\n",
       "\n",
       "    .dataframe tbody tr th {\n",
       "        vertical-align: top;\n",
       "    }\n",
       "\n",
       "    .dataframe thead th {\n",
       "        text-align: right;\n",
       "    }\n",
       "</style>\n",
       "<table border=\"1\" class=\"dataframe\">\n",
       "  <thead>\n",
       "    <tr style=\"text-align: right;\">\n",
       "      <th></th>\n",
       "      <th>duration_ms</th>\n",
       "      <th>loudness</th>\n",
       "      <th>tempo</th>\n",
       "      <th>valence</th>\n",
       "      <th>acousticness</th>\n",
       "      <th>danceability</th>\n",
       "      <th>energy</th>\n",
       "    </tr>\n",
       "  </thead>\n",
       "  <tbody>\n",
       "    <tr>\n",
       "      <th>0</th>\n",
       "      <td>0.403695</td>\n",
       "      <td>0.451467</td>\n",
       "      <td>0.178779</td>\n",
       "      <td>0.963</td>\n",
       "      <td>0.732</td>\n",
       "      <td>0.819</td>\n",
       "      <td>0.341</td>\n",
       "    </tr>\n",
       "    <tr>\n",
       "      <th>1</th>\n",
       "      <td>0.483304</td>\n",
       "      <td>0.557378</td>\n",
       "      <td>0.412301</td>\n",
       "      <td>0.165</td>\n",
       "      <td>0.967</td>\n",
       "      <td>0.275</td>\n",
       "      <td>0.309</td>\n",
       "    </tr>\n",
       "    <tr>\n",
       "      <th>2</th>\n",
       "      <td>0.366304</td>\n",
       "      <td>0.530943</td>\n",
       "      <td>0.421576</td>\n",
       "      <td>0.253</td>\n",
       "      <td>0.957</td>\n",
       "      <td>0.418</td>\n",
       "      <td>0.193</td>\n",
       "    </tr>\n",
       "    <tr>\n",
       "      <th>3</th>\n",
       "      <td>0.983312</td>\n",
       "      <td>0.449265</td>\n",
       "      <td>0.529827</td>\n",
       "      <td>0.196</td>\n",
       "      <td>0.579</td>\n",
       "      <td>0.697</td>\n",
       "      <td>0.346</td>\n",
       "    </tr>\n",
       "    <tr>\n",
       "      <th>4</th>\n",
       "      <td>0.346890</td>\n",
       "      <td>0.514234</td>\n",
       "      <td>0.210284</td>\n",
       "      <td>0.406</td>\n",
       "      <td>0.996</td>\n",
       "      <td>0.518</td>\n",
       "      <td>0.203</td>\n",
       "    </tr>\n",
       "  </tbody>\n",
       "</table>\n",
       "</div>"
      ],
      "text/plain": [
       "   duration_ms  loudness     tempo  valence  acousticness  danceability  \\\n",
       "0     0.403695  0.451467  0.178779    0.963         0.732         0.819   \n",
       "1     0.483304  0.557378  0.412301    0.165         0.967         0.275   \n",
       "2     0.366304  0.530943  0.421576    0.253         0.957         0.418   \n",
       "3     0.983312  0.449265  0.529827    0.196         0.579         0.697   \n",
       "4     0.346890  0.514234  0.210284    0.406         0.996         0.518   \n",
       "\n",
       "   energy  \n",
       "0   0.341  \n",
       "1   0.309  \n",
       "2   0.193  \n",
       "3   0.346  \n",
       "4   0.203  "
      ]
     },
     "execution_count": 2,
     "metadata": {},
     "output_type": "execute_result"
    }
   ],
   "source": [
    "df = pd.read_csv('../data/clean_data/clean_data.csv')\n",
    "\n",
    "df.head()"
   ]
  },
  {
   "cell_type": "markdown",
   "id": "bfbd9f84-b3de-4902-888c-a92856c450a6",
   "metadata": {},
   "source": [
    "# KMeans algo"
   ]
  },
  {
   "cell_type": "code",
   "execution_count": 3,
   "id": "37af233a-31b9-4bb3-9237-5b517d9ad44c",
   "metadata": {},
   "outputs": [],
   "source": [
    "from sklearn.cluster import KMeans"
   ]
  },
  {
   "cell_type": "code",
   "execution_count": 4,
   "id": "53706f7b-ded5-4edb-890b-8fd0b2a9622b",
   "metadata": {},
   "outputs": [
    {
     "data": {
      "text/plain": [
       "10"
      ]
     },
     "execution_count": 4,
     "metadata": {},
     "output_type": "execute_result"
    }
   ],
   "source": [
    "inertias = []\n",
    "for k in range(1, 11):\n",
    "    kmeans = KMeans(k)\n",
    "    kmeans.fit(df)\n",
    "    inertias.append(kmeans.inertia_)\n",
    "\n",
    "len(inertias)"
   ]
  },
  {
   "cell_type": "code",
   "execution_count": 5,
   "id": "b6ce6170-d559-4e04-ad32-096fbb91831f",
   "metadata": {},
   "outputs": [
    {
     "data": {
      "image/png": "[encoded data removed]",
      "text/plain": [
       "<Figure size 640x480 with 1 Axes>"
      ]
     },
     "metadata": {},
     "output_type": "display_data"
    }
   ],
   "source": [
    "sns.lineplot(x=list(range(1, 11)), y=inertias);"
   ]
  },
  {
   "cell_type": "markdown",
   "id": "4e78c3f1-4fa1-4311-b389-409d35fbe028",
   "metadata": {},
   "source": [
    "<font color='red'>The optimal number of clusters appears to be 4</font>"
   ]
  },
  {
   "cell_type": "markdown",
   "id": "d9ebf5ed-b0fd-43be-9aff-70f3ddc1f047",
   "metadata": {},
   "source": [
    "## Loop for best KMeans solution"
   ]
  },
  {
   "cell_type": "markdown",
   "id": "1269fa1a",
   "metadata": {},
   "source": [
    "### K-means++ initialization"
   ]
  },
  {
   "cell_type": "code",
   "execution_count": 6,
   "id": "5293a5a2-1f1a-405d-9348-09959226c34f",
   "metadata": {},
   "outputs": [],
   "source": [
    "best_solution = None\n",
    "time_partials = []\n",
    "scores = []\n",
    "\n",
    "start_total_time = time.time()\n",
    "for _ in range(50):\n",
    "    start_partial_time = time.time()\n",
    "    kmeans = KMeans(4, init='k-means++', n_init=1, max_iter=75)\n",
    "    kmeans.fit(df)\n",
    "    partial_time = time.time() - start_partial_time\n",
    "    time_partials.append(partial_time)\n",
    "    scores.append(kmeans.inertia_)\n",
    "\n",
    "    if best_solution is None or kmeans.inertia_ < best_solution.inertia_:\n",
    "        best_solution = kmeans\n",
    "\n",
    "total_time = time.time() - start_total_time"
   ]
  },
  {
   "cell_type": "code",
   "execution_count": 7,
   "id": "382d32ec-be61-40af-949b-77713712d04f",
   "metadata": {},
   "outputs": [
    {
     "name": "stdout",
     "output_type": "stream",
     "text": [
      "Best inertia: 24506.52\n",
      "Average inertia: 24506.76\n",
      "Std inertia: 0.11\n",
      "--------------------------------------------------\n",
      "Total time:     6.12 seconds.\n",
      "Average time per loop:    0.12 seconds.\n",
      "Std time per loop:    0.01 seconds.\n"
     ]
    }
   ],
   "source": [
    "print(f'Best inertia: {best_solution.inertia_:.2f}')\n",
    "print(f'Average inertia: {np.mean(scores):.2f}')\n",
    "print(f'Std inertia: {np.std(scores):.2f}')\n",
    "print('-'*50)\n",
    "print(f'Total time:     {total_time:.2f} seconds.')\n",
    "print(f'Average time per loop:    {np.mean(time_partials):.2f} seconds.')\n",
    "print(f'Std time per loop:    {np.std(time_partials):.2f} seconds.')"
   ]
  },
  {
   "cell_type": "code",
   "execution_count": 8,
   "id": "dd474927-82d7-4477-8684-71ca26cc4c9c",
   "metadata": {},
   "outputs": [],
   "source": [
    "df_kmeans_pp = df.copy()\n",
    "\n",
    "df_kmeans_pp['labels'] = best_solution.predict(df_kmeans_pp)"
   ]
  },
  {
   "cell_type": "code",
   "execution_count": 9,
   "id": "97660de9-a746-4dba-8fed-fdb66319161c",
   "metadata": {},
   "outputs": [
    {
     "data": {
      "text/plain": [
       "labels\n",
       "3    0.272868\n",
       "0    0.260693\n",
       "2    0.241937\n",
       "1    0.224502\n",
       "Name: proportion, dtype: float64"
      ]
     },
     "execution_count": 9,
     "metadata": {},
     "output_type": "execute_result"
    }
   ],
   "source": [
    "df_kmeans_pp.labels.value_counts(normalize=True)"
   ]
  },
  {
   "cell_type": "code",
   "execution_count": 10,
   "id": "af44a3d1-48fe-43f7-a6fc-5a422a8fe90f",
   "metadata": {},
   "outputs": [
    {
     "data": {
      "text/plain": [
       "array([[0.40123645, 0.46631013, 0.51742167, 0.70974094, 0.78890153,\n",
       "        0.60297059, 0.38546503],\n",
       "       [0.5693395 , 0.61023813, 0.55559291, 0.36617624, 0.12735113,\n",
       "        0.51176878, 0.67674371],\n",
       "       [0.48156959, 0.33966241, 0.43694748, 0.27543574, 0.86066963,\n",
       "        0.41195281, 0.20622863],\n",
       "       [0.50769913, 0.59078998, 0.53620261, 0.77215188, 0.17187666,\n",
       "        0.66374367, 0.68813925]])"
      ]
     },
     "execution_count": 10,
     "metadata": {},
     "output_type": "execute_result"
    }
   ],
   "source": [
    "best_solution.cluster_centers_"
   ]
  },
  {
   "cell_type": "markdown",
   "id": "156a8a48",
   "metadata": {},
   "source": [
    "### Random initialization"
   ]
  },
  {
   "cell_type": "code",
   "execution_count": 20,
   "id": "9529fe89-9fed-486f-80d8-15c184020c53",
   "metadata": {},
   "outputs": [],
   "source": [
    "best_solution = None\n",
    "time_partials = []\n",
    "scores = []\n",
    "\n",
    "start_total_time = time.time()\n",
    "for _ in range(50):\n",
    "    start_partial_time = time.time()\n",
    "    kmeans = KMeans(4, init='random', n_init=1, max_iter=75)\n",
    "    kmeans.fit(df)\n",
    "    partial_time = time.time() - start_partial_time\n",
    "    time_partials.append(partial_time)\n",
    "    scores.append(kmeans.inertia_)\n",
    "\n",
    "    if best_solution is None or kmeans.inertia_ < best_solution.inertia_:\n",
    "        best_solution = kmeans\n",
    "\n",
    "total_time = time.time() - start_total_time"
   ]
  },
  {
   "cell_type": "code",
   "execution_count": 21,
   "id": "fc72b2c9",
   "metadata": {},
   "outputs": [
    {
     "name": "stdout",
     "output_type": "stream",
     "text": [
      "Best inertia: 24506.57\n",
      "Average inertia: 24554.60\n",
      "Std inertia: 334.57\n",
      "--------------------------------------------------\n",
      "Total time:     1.34 seconds.\n",
      "Average time per loop:    0.03 seconds.\n",
      "Std time per loop:    0.01 seconds.\n"
     ]
    }
   ],
   "source": [
    "print(f'Best inertia: {best_solution.inertia_:.2f}')\n",
    "print(f'Average inertia: {np.mean(scores):.2f}')\n",
    "print(f'Std inertia: {np.std(scores):.2f}')\n",
    "print('-'*50)\n",
    "print(f'Total time:     {total_time:.2f} seconds.')\n",
    "print(f'Average time per loop:    {np.mean(time_partials):.2f} seconds.')\n",
    "print(f'Std time per loop:    {np.std(time_partials):.2f} seconds.')"
   ]
  },
  {
   "cell_type": "code",
   "execution_count": 22,
   "id": "e70c133a",
   "metadata": {},
   "outputs": [],
   "source": [
    "df_kmeans_random = df.copy()\n",
    "\n",
    "df_kmeans_random['labels'] = best_solution.predict(df_kmeans_random)"
   ]
  },
  {
   "cell_type": "code",
   "execution_count": 23,
   "id": "fdf7ed3b",
   "metadata": {},
   "outputs": [
    {
     "data": {
      "text/plain": [
       "labels\n",
       "0    0.273552\n",
       "3    0.259995\n",
       "1    0.242573\n",
       "2    0.223879\n",
       "Name: proportion, dtype: float64"
      ]
     },
     "execution_count": 23,
     "metadata": {},
     "output_type": "execute_result"
    }
   ],
   "source": [
    "df_kmeans_random.labels.value_counts(normalize=True)"
   ]
  },
  {
   "cell_type": "code",
   "execution_count": 24,
   "id": "a80ea354",
   "metadata": {},
   "outputs": [
    {
     "data": {
      "text/plain": [
       "array([[0.50766739, 0.59063897, 0.53624108, 0.7712757 , 0.17164255,\n",
       "        0.66336827, 0.68789471],\n",
       "       [0.48152898, 0.33997377, 0.4371579 , 0.27622923, 0.86029753,\n",
       "        0.41255589, 0.20659026],\n",
       "       [0.5695856 , 0.61027317, 0.55560089, 0.36529747, 0.12763039,\n",
       "        0.51149081, 0.676579  ],\n",
       "       [0.4008946 , 0.46659056, 0.51754018, 0.71091161, 0.78940757,\n",
       "        0.60320396, 0.3858986 ]])"
      ]
     },
     "execution_count": 24,
     "metadata": {},
     "output_type": "execute_result"
    }
   ],
   "source": [
    "best_solution.cluster_centers_"
   ]
  },
  {
   "cell_type": "code",
   "execution_count": null,
   "id": "98580d53",
   "metadata": {},
   "outputs": [],
   "source": []
  },
  {
   "cell_type": "code",
   "execution_count": null,
   "id": "b11734c0",
   "metadata": {},
   "outputs": [],
   "source": []
  }
 ],
 "metadata": {
  "kernelspec": {
   "display_name": "Python 3 (ipykernel)",
   "language": "python",
   "name": "python3"
  },
  "language_info": {
   "codemirror_mode": {
    "name": "ipython",
    "version": 3
   },
   "file_extension": ".py",
   "mimetype": "text/x-python",
   "name": "python",
   "nbconvert_exporter": "python",
   "pygments_lexer": "ipython3",
   "version": "3.11.4"
  }
 },
 "nbformat": 4,
 "nbformat_minor": 5
}
