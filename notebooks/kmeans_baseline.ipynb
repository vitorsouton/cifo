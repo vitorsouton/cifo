{
 "cells": [
  {
   "cell_type": "code",
   "execution_count": 1,
   "id": "0226e192-7b26-4cbc-813c-0ab6788257e3",
   "metadata": {},
   "outputs": [],
   "source": [
    "import pandas as pd\n",
    "import numpy as np\n",
    "import seaborn as sns\n",
    "import time"
   ]
  },
  {
   "cell_type": "code",
   "execution_count": 2,
   "id": "def473e1-8593-4291-b108-d4bbae797018",
   "metadata": {},
   "outputs": [
    {
     "data": {
      "text/html": [
       "<div>\n",
       "<style scoped>\n",
       "    .dataframe tbody tr th:only-of-type {\n",
       "        vertical-align: middle;\n",
       "    }\n",
       "\n",
       "    .dataframe tbody tr th {\n",
       "        vertical-align: top;\n",
       "    }\n",
       "\n",
       "    .dataframe thead th {\n",
       "        text-align: right;\n",
       "    }\n",
       "</style>\n",
       "<table border=\"1\" class=\"dataframe\">\n",
       "  <thead>\n",
       "    <tr style=\"text-align: right;\">\n",
       "      <th></th>\n",
       "      <th>duration_ms</th>\n",
       "      <th>loudness</th>\n",
       "      <th>tempo</th>\n",
       "      <th>valence</th>\n",
       "      <th>acousticness</th>\n",
       "      <th>danceability</th>\n",
       "      <th>energy</th>\n",
       "    </tr>\n",
       "  </thead>\n",
       "  <tbody>\n",
       "    <tr>\n",
       "      <th>0</th>\n",
       "      <td>0.403695</td>\n",
       "      <td>0.451467</td>\n",
       "      <td>0.178779</td>\n",
       "      <td>0.963</td>\n",
       "      <td>0.732</td>\n",
       "      <td>0.819</td>\n",
       "      <td>0.341</td>\n",
       "    </tr>\n",
       "    <tr>\n",
       "      <th>1</th>\n",
       "      <td>0.483304</td>\n",
       "      <td>0.557378</td>\n",
       "      <td>0.412301</td>\n",
       "      <td>0.165</td>\n",
       "      <td>0.967</td>\n",
       "      <td>0.275</td>\n",
       "      <td>0.309</td>\n",
       "    </tr>\n",
       "    <tr>\n",
       "      <th>2</th>\n",
       "      <td>0.366304</td>\n",
       "      <td>0.530943</td>\n",
       "      <td>0.421576</td>\n",
       "      <td>0.253</td>\n",
       "      <td>0.957</td>\n",
       "      <td>0.418</td>\n",
       "      <td>0.193</td>\n",
       "    </tr>\n",
       "    <tr>\n",
       "      <th>3</th>\n",
       "      <td>0.983312</td>\n",
       "      <td>0.449265</td>\n",
       "      <td>0.529827</td>\n",
       "      <td>0.196</td>\n",
       "      <td>0.579</td>\n",
       "      <td>0.697</td>\n",
       "      <td>0.346</td>\n",
       "    </tr>\n",
       "    <tr>\n",
       "      <th>4</th>\n",
       "      <td>0.346890</td>\n",
       "      <td>0.514234</td>\n",
       "      <td>0.210284</td>\n",
       "      <td>0.406</td>\n",
       "      <td>0.996</td>\n",
       "      <td>0.518</td>\n",
       "      <td>0.203</td>\n",
       "    </tr>\n",
       "  </tbody>\n",
       "</table>\n",
       "</div>"
      ],
      "text/plain": [
       "   duration_ms  loudness     tempo  valence  acousticness  danceability  \\\n",
       "0     0.403695  0.451467  0.178779    0.963         0.732         0.819   \n",
       "1     0.483304  0.557378  0.412301    0.165         0.967         0.275   \n",
       "2     0.366304  0.530943  0.421576    0.253         0.957         0.418   \n",
       "3     0.983312  0.449265  0.529827    0.196         0.579         0.697   \n",
       "4     0.346890  0.514234  0.210284    0.406         0.996         0.518   \n",
       "\n",
       "   energy  \n",
       "0   0.341  \n",
       "1   0.309  \n",
       "2   0.193  \n",
       "3   0.346  \n",
       "4   0.203  "
      ]
     },
     "execution_count": 2,
     "metadata": {},
     "output_type": "execute_result"
    }
   ],
   "source": [
    "df = pd.read_csv('../data/clean_data/clean_data.csv')\n",
    "\n",
    "df.head()"
   ]
  },
  {
   "cell_type": "markdown",
   "id": "bfbd9f84-b3de-4902-888c-a92856c450a6",
   "metadata": {},
   "source": [
    "# KMeans algo"
   ]
  },
  {
   "cell_type": "code",
   "execution_count": 3,
   "id": "37af233a-31b9-4bb3-9237-5b517d9ad44c",
   "metadata": {},
   "outputs": [],
   "source": [
    "from sklearn.cluster import KMeans"
   ]
  },
  {
   "cell_type": "code",
   "execution_count": 4,
   "id": "53706f7b-ded5-4edb-890b-8fd0b2a9622b",
   "metadata": {},
   "outputs": [
    {
     "data": {
      "text/plain": [
       "10"
      ]
     },
     "execution_count": 4,
     "metadata": {},
     "output_type": "execute_result"
    }
   ],
   "source": [
    "inertias = []\n",
    "for k in range(1, 11):\n",
    "    kmeans = KMeans(k)\n",
    "    kmeans.fit(df)\n",
    "    inertias.append(kmeans.inertia_)\n",
    "\n",
    "len(inertias)"
   ]
  },
  {
   "cell_type": "code",
   "execution_count": 5,
   "id": "b6ce6170-d559-4e04-ad32-096fbb91831f",
   "metadata": {},
   "outputs": [
    {
     "data": {
      "image/png": "[encoded data removed]",
      "text/plain": [
       "<Figure size 640x480 with 1 Axes>"
      ]
     },
     "metadata": {},
     "output_type": "display_data"
    }
   ],
   "source": [
    "sns.lineplot(x=list(range(1, 11)), y=inertias);"
   ]
  },
  {
   "cell_type": "markdown",
   "id": "4e78c3f1-4fa1-4311-b389-409d35fbe028",
   "metadata": {},
   "source": [
    "<font color='red'>The optimal number of clusters appears to be 4</font>"
   ]
  },
  {
   "cell_type": "markdown",
   "id": "d9ebf5ed-b0fd-43be-9aff-70f3ddc1f047",
   "metadata": {},
   "source": [
    "## Loop for best KMeans solution"
   ]
  },
  {
   "cell_type": "markdown",
   "id": "1269fa1a",
   "metadata": {},
   "source": [
    "### K-means++ initialization"
   ]
  },
  {
   "cell_type": "code",
   "execution_count": 6,
   "id": "5293a5a2-1f1a-405d-9348-09959226c34f",
   "metadata": {},
   "outputs": [],
   "source": [
    "best_solution = None\n",
    "time_partials = []\n",
    "scores = []\n",
    "\n",
    "start_total_time = time.time()\n",
    "for _ in range(1000):\n",
    "    start_partial_time = time.time()\n",
    "    kmeans = KMeans(4, init='k-means++')\n",
    "    kmeans.fit(df)\n",
    "    partial_time = time.time() - start_partial_time\n",
    "    time_partials.append(partial_time)\n",
    "    scores.append(kmeans.inertia_)\n",
    "\n",
    "    if best_solution is None or kmeans.inertia_ < best_solution.inertia_:\n",
    "        best_solution = kmeans\n",
    "\n",
    "total_time = time.time() - start_total_time"
   ]
  },
  {
   "cell_type": "code",
   "execution_count": 7,
   "id": "382d32ec-be61-40af-949b-77713712d04f",
   "metadata": {},
   "outputs": [
    {
     "name": "stdout",
     "output_type": "stream",
     "text": [
      "Best inertia: 24506.47\n",
      "Average inertia: 24509.19\n",
      "Std inertia: 75.53\n",
      "--------------------------------------------------\n",
      "Total time:     123.37 seconds.\n",
      "Average time per loop:    0.12 seconds.\n",
      "Std time per loop:    0.01 seconds.\n"
     ]
    }
   ],
   "source": [
    "print(f'Best inertia: {best_solution.inertia_:.2f}')\n",
    "print(f'Average inertia: {np.mean(scores):.2f}')\n",
    "print(f'Std inertia: {np.std(scores):.2f}')\n",
    "print('-'*50)\n",
    "print(f'Total time:     {total_time:.2f} seconds.')\n",
    "print(f'Average time per loop:    {np.mean(time_partials):.2f} seconds.')\n",
    "print(f'Std time per loop:    {np.std(time_partials):.2f} seconds.')"
   ]
  },
  {
   "cell_type": "code",
   "execution_count": 8,
   "id": "dd474927-82d7-4477-8684-71ca26cc4c9c",
   "metadata": {},
   "outputs": [],
   "source": [
    "df_kmeans_pp = df.copy()\n",
    "\n",
    "df_kmeans_pp['labels'] = best_solution.predict(df_kmeans_pp)"
   ]
  },
  {
   "cell_type": "code",
   "execution_count": 9,
   "id": "97660de9-a746-4dba-8fed-fdb66319161c",
   "metadata": {},
   "outputs": [
    {
     "data": {
      "text/plain": [
       "labels\n",
       "3    0.272957\n",
       "2    0.260679\n",
       "0    0.241534\n",
       "1    0.224830\n",
       "Name: proportion, dtype: float64"
      ]
     },
     "execution_count": 9,
     "metadata": {},
     "output_type": "execute_result"
    }
   ],
   "source": [
    "df_kmeans_pp.labels.value_counts(normalize=True)"
   ]
  },
  {
   "cell_type": "code",
   "execution_count": 10,
   "id": "af44a3d1-48fe-43f7-a6fc-5a422a8fe90f",
   "metadata": {},
   "outputs": [
    {
     "data": {
      "text/plain": [
       "array([[0.48162876, 0.33947813, 0.43684693, 0.27480582, 0.86042965,\n",
       "        0.41169569, 0.20613995],\n",
       "       [0.56959432, 0.61067404, 0.55554865, 0.36672681, 0.12709222,\n",
       "        0.51196457, 0.6774682 ],\n",
       "       [0.40133901, 0.46613673, 0.51733348, 0.70921742, 0.79011807,\n",
       "        0.60263753, 0.3849315 ],\n",
       "       [0.50715091, 0.59018491, 0.53617861, 0.77237975, 0.17280491,\n",
       "        0.66384292, 0.68707977]])"
      ]
     },
     "execution_count": 10,
     "metadata": {},
     "output_type": "execute_result"
    }
   ],
   "source": [
    "best_solution.cluster_centers_"
   ]
  },
  {
   "cell_type": "markdown",
   "id": "156a8a48",
   "metadata": {},
   "source": [
    "### Random initialization"
   ]
  },
  {
   "cell_type": "code",
   "execution_count": 11,
   "id": "9529fe89-9fed-486f-80d8-15c184020c53",
   "metadata": {},
   "outputs": [],
   "source": [
    "best_solution = None\n",
    "time_partials = []\n",
    "scores = []\n",
    "\n",
    "start_total_time = time.time()\n",
    "for _ in range(1000):\n",
    "    start_partial_time = time.time()\n",
    "    kmeans = KMeans(4, init='random')\n",
    "    kmeans.fit(df)\n",
    "    partial_time = time.time() - start_partial_time\n",
    "    time_partials.append(partial_time)\n",
    "    scores.append(kmeans.inertia_)\n",
    "\n",
    "    if best_solution is None or kmeans.inertia_ < best_solution.inertia_:\n",
    "        best_solution = kmeans\n",
    "\n",
    "total_time = time.time() - start_total_time"
   ]
  },
  {
   "cell_type": "code",
   "execution_count": 16,
   "id": "fc72b2c9",
   "metadata": {},
   "outputs": [
    {
     "name": "stdout",
     "output_type": "stream",
     "text": [
      "Best inertia: 24506.49\n",
      "Average inertia: 24506.65\n",
      "Std inertia: 0.06\n",
      "--------------------------------------------------\n",
      "Total time:     159.35 seconds.\n",
      "Average time per loop:    0.16 seconds.\n",
      "Std time per loop:    0.02 seconds.\n"
     ]
    }
   ],
   "source": [
    "print(f'Best inertia: {best_solution.inertia_:.2f}')\n",
    "print(f'Average inertia: {np.mean(scores):.2f}')\n",
    "print(f'Std inertia: {np.std(scores):.2f}')\n",
    "print('-'*50)\n",
    "print(f'Total time:     {total_time:.2f} seconds.')\n",
    "print(f'Average time per loop:    {np.mean(time_partials):.2f} seconds.')\n",
    "print(f'Std time per loop:    {np.std(time_partials):.2f} seconds.')"
   ]
  },
  {
   "cell_type": "code",
   "execution_count": 13,
   "id": "e70c133a",
   "metadata": {},
   "outputs": [],
   "source": [
    "df_kmeans_random = df.copy()\n",
    "\n",
    "df_kmeans_random['labels'] = best_solution.predict(df_kmeans_random)"
   ]
  },
  {
   "cell_type": "code",
   "execution_count": 14,
   "id": "fdf7ed3b",
   "metadata": {},
   "outputs": [
    {
     "data": {
      "text/plain": [
       "labels\n",
       "2    0.273792\n",
       "1    0.260720\n",
       "3    0.241294\n",
       "0    0.224194\n",
       "Name: proportion, dtype: float64"
      ]
     },
     "execution_count": 14,
     "metadata": {},
     "output_type": "execute_result"
    }
   ],
   "source": [
    "df_kmeans_random.labels.value_counts(normalize=True)"
   ]
  },
  {
   "cell_type": "code",
   "execution_count": 15,
   "id": "a80ea354",
   "metadata": {},
   "outputs": [
    {
     "data": {
      "text/plain": [
       "array([[0.56963584, 0.61082713, 0.555771  , 0.36584737, 0.12706092,\n",
       "        0.51138752, 0.67766974],\n",
       "       [0.40113136, 0.46583429, 0.5171922 , 0.70892897, 0.7905971 ,\n",
       "        0.6026118 , 0.38442627],\n",
       "       [0.50735231, 0.59009801, 0.53607364, 0.77149481, 0.17298472,\n",
       "        0.66368638, 0.68676241],\n",
       "       [0.48186587, 0.33951385, 0.43685094, 0.2744073 , 0.86034499,\n",
       "        0.41140199, 0.20619639]])"
      ]
     },
     "execution_count": 15,
     "metadata": {},
     "output_type": "execute_result"
    }
   ],
   "source": [
    "best_solution.cluster_centers_"
   ]
  },
  {
   "cell_type": "code",
   "execution_count": null,
   "id": "98580d53",
   "metadata": {},
   "outputs": [],
   "source": []
  },
  {
   "cell_type": "code",
   "execution_count": null,
   "id": "b11734c0",
   "metadata": {},
   "outputs": [],
   "source": []
  }
 ],
 "metadata": {
  "kernelspec": {
   "display_name": "Python 3 (ipykernel)",
   "language": "python",
   "name": "python3"
  },
  "language_info": {
   "codemirror_mode": {
    "name": "ipython",
    "version": 3
   },
   "file_extension": ".py",
   "mimetype": "text/x-python",
   "name": "python",
   "nbconvert_exporter": "python",
   "pygments_lexer": "ipython3",
   "version": "3.11.4"
  }
 },
 "nbformat": 4,
 "nbformat_minor": 5
}
