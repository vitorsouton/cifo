{
 "cells": [
  {
   "cell_type": "code",
   "execution_count": 1,
   "id": "0226e192-7b26-4cbc-813c-0ab6788257e3",
   "metadata": {},
   "outputs": [],
   "source": [
    "import pandas as pd\n",
    "import numpy as np\n",
    "import seaborn as sns\n",
    "import time"
   ]
  },
  {
   "cell_type": "code",
   "execution_count": 2,
   "id": "def473e1-8593-4291-b108-d4bbae797018",
   "metadata": {},
   "outputs": [
    {
     "data": {
      "text/html": [
       "<div>\n",
       "<style scoped>\n",
       "    .dataframe tbody tr th:only-of-type {\n",
       "        vertical-align: middle;\n",
       "    }\n",
       "\n",
       "    .dataframe tbody tr th {\n",
       "        vertical-align: top;\n",
       "    }\n",
       "\n",
       "    .dataframe thead th {\n",
       "        text-align: right;\n",
       "    }\n",
       "</style>\n",
       "<table border=\"1\" class=\"dataframe\">\n",
       "  <thead>\n",
       "    <tr style=\"text-align: right;\">\n",
       "      <th></th>\n",
       "      <th>duration_ms</th>\n",
       "      <th>loudness</th>\n",
       "      <th>tempo</th>\n",
       "      <th>valence</th>\n",
       "      <th>acousticness</th>\n",
       "      <th>danceability</th>\n",
       "      <th>energy</th>\n",
       "    </tr>\n",
       "  </thead>\n",
       "  <tbody>\n",
       "    <tr>\n",
       "      <th>0</th>\n",
       "      <td>0.403695</td>\n",
       "      <td>0.451467</td>\n",
       "      <td>0.178779</td>\n",
       "      <td>0.963</td>\n",
       "      <td>0.732</td>\n",
       "      <td>0.819</td>\n",
       "      <td>0.341</td>\n",
       "    </tr>\n",
       "    <tr>\n",
       "      <th>1</th>\n",
       "      <td>0.483304</td>\n",
       "      <td>0.557378</td>\n",
       "      <td>0.412301</td>\n",
       "      <td>0.165</td>\n",
       "      <td>0.967</td>\n",
       "      <td>0.275</td>\n",
       "      <td>0.309</td>\n",
       "    </tr>\n",
       "    <tr>\n",
       "      <th>2</th>\n",
       "      <td>0.366304</td>\n",
       "      <td>0.530943</td>\n",
       "      <td>0.421576</td>\n",
       "      <td>0.253</td>\n",
       "      <td>0.957</td>\n",
       "      <td>0.418</td>\n",
       "      <td>0.193</td>\n",
       "    </tr>\n",
       "    <tr>\n",
       "      <th>3</th>\n",
       "      <td>0.983312</td>\n",
       "      <td>0.449265</td>\n",
       "      <td>0.529827</td>\n",
       "      <td>0.196</td>\n",
       "      <td>0.579</td>\n",
       "      <td>0.697</td>\n",
       "      <td>0.346</td>\n",
       "    </tr>\n",
       "    <tr>\n",
       "      <th>4</th>\n",
       "      <td>0.346890</td>\n",
       "      <td>0.514234</td>\n",
       "      <td>0.210284</td>\n",
       "      <td>0.406</td>\n",
       "      <td>0.996</td>\n",
       "      <td>0.518</td>\n",
       "      <td>0.203</td>\n",
       "    </tr>\n",
       "  </tbody>\n",
       "</table>\n",
       "</div>"
      ],
      "text/plain": [
       "   duration_ms  loudness     tempo  valence  acousticness  danceability  \\\n",
       "0     0.403695  0.451467  0.178779    0.963         0.732         0.819   \n",
       "1     0.483304  0.557378  0.412301    0.165         0.967         0.275   \n",
       "2     0.366304  0.530943  0.421576    0.253         0.957         0.418   \n",
       "3     0.983312  0.449265  0.529827    0.196         0.579         0.697   \n",
       "4     0.346890  0.514234  0.210284    0.406         0.996         0.518   \n",
       "\n",
       "   energy  \n",
       "0   0.341  \n",
       "1   0.309  \n",
       "2   0.193  \n",
       "3   0.346  \n",
       "4   0.203  "
      ]
     },
     "execution_count": 2,
     "metadata": {},
     "output_type": "execute_result"
    }
   ],
   "source": [
    "df = pd.read_csv('../data/clean_data/clean_data.csv')\n",
    "\n",
    "df.head()"
   ]
  },
  {
   "cell_type": "markdown",
   "id": "bfbd9f84-b3de-4902-888c-a92856c450a6",
   "metadata": {},
   "source": [
    "# KMeans algo"
   ]
  },
  {
   "cell_type": "code",
   "execution_count": 4,
   "id": "37af233a-31b9-4bb3-9237-5b517d9ad44c",
   "metadata": {},
   "outputs": [],
   "source": [
    "from sklearn.cluster import KMeans"
   ]
  },
  {
   "cell_type": "code",
   "execution_count": 5,
   "id": "53706f7b-ded5-4edb-890b-8fd0b2a9622b",
   "metadata": {},
   "outputs": [
    {
     "data": {
      "text/plain": [
       "10"
      ]
     },
     "execution_count": 5,
     "metadata": {},
     "output_type": "execute_result"
    }
   ],
   "source": [
    "inertias = []\n",
    "for k in range(1, 11):\n",
    "    kmeans = KMeans(k)\n",
    "    kmeans.fit(df)\n",
    "    inertias.append(kmeans.inertia_)\n",
    "\n",
    "len(inertias)"
   ]
  },
  {
   "cell_type": "code",
   "execution_count": 6,
   "id": "b6ce6170-d559-4e04-ad32-096fbb91831f",
   "metadata": {},
   "outputs": [
    {
     "data": {
      "image/png": "[encoded data removed]",
      "text/plain": [
       "<Figure size 640x480 with 1 Axes>"
      ]
     },
     "metadata": {},
     "output_type": "display_data"
    }
   ],
   "source": [
    "sns.lineplot(x=list(range(1, 11)), y=inertias);"
   ]
  },
  {
   "cell_type": "markdown",
   "id": "4e78c3f1-4fa1-4311-b389-409d35fbe028",
   "metadata": {},
   "source": [
    "<font color='red'>The optimal number of clusters appears to be 4</font>"
   ]
  },
  {
   "cell_type": "markdown",
   "id": "d9ebf5ed-b0fd-43be-9aff-70f3ddc1f047",
   "metadata": {},
   "source": [
    "## Loop for best KMeans solution"
   ]
  },
  {
   "cell_type": "markdown",
   "id": "1269fa1a",
   "metadata": {},
   "source": [
    "### K-means++ initialization"
   ]
  },
  {
   "cell_type": "code",
   "execution_count": 7,
   "id": "5293a5a2-1f1a-405d-9348-09959226c34f",
   "metadata": {},
   "outputs": [],
   "source": [
    "best_solution = None\n",
    "time_partials = []\n",
    "scores = []\n",
    "\n",
    "start_total_time = time.time()\n",
    "for _ in range(1000):\n",
    "    start_partial_time = time.time()\n",
    "    kmeans = KMeans(4, init='k-means++')\n",
    "    kmeans.fit(df)\n",
    "    partial_time = time.time() - start_partial_time\n",
    "    time_partials.append(partial_time)\n",
    "    scores.append(kmeans.inertia_)\n",
    "\n",
    "    if best_solution is None or kmeans.inertia_ < best_solution.inertia_:\n",
    "        best_solution = kmeans\n",
    "\n",
    "total_time = time.time() - start_total_time"
   ]
  },
  {
   "cell_type": "code",
   "execution_count": 9,
   "id": "382d32ec-be61-40af-949b-77713712d04f",
   "metadata": {},
   "outputs": [
    {
     "name": "stdout",
     "output_type": "stream",
     "text": [
      "Best inertia: 24506.51\n",
      "Average inertia: 24510.00\n",
      "Std inertia: 79.74\n",
      "--------------------------------------------------\n",
      "Total time:     122.24 seconds.\n",
      "Average time per loop:    0.12 seconds.\n",
      "Std time per loop:    0.01 seconds.\n"
     ]
    }
   ],
   "source": [
    "print(f'Best inertia: {best_solution.inertia_:.2f}')\n",
    "print(f'Average inertia: {np.mean(scores):.2f}')\n",
    "print(f'Std inertia: {np.std(scores):.2f}')\n",
    "print('-'*50)\n",
    "print(f'Total time:     {total_time:.2f} seconds.')\n",
    "print(f'Average time per loop:    {np.mean(time_partials):.2f} seconds.')\n",
    "print(f'Std time per loop:    {np.std(time_partials):.2f} seconds.')"
   ]
  },
  {
   "cell_type": "code",
   "execution_count": 10,
   "id": "dd474927-82d7-4477-8684-71ca26cc4c9c",
   "metadata": {},
   "outputs": [],
   "source": [
    "df_kmeans_pp = df.copy()\n",
    "\n",
    "df_kmeans_pp['labels'] = best_solution.predict(df_kmeans_pp)"
   ]
  },
  {
   "cell_type": "code",
   "execution_count": 11,
   "id": "97660de9-a746-4dba-8fed-fdb66319161c",
   "metadata": {},
   "outputs": [
    {
     "data": {
      "text/plain": [
       "labels\n",
       "0    0.272540\n",
       "3    0.260310\n",
       "1    0.242019\n",
       "2    0.225131\n",
       "Name: proportion, dtype: float64"
      ]
     },
     "execution_count": 11,
     "metadata": {},
     "output_type": "execute_result"
    }
   ],
   "source": [
    "df_kmeans_pp.labels.value_counts(normalize=True)"
   ]
  },
  {
   "cell_type": "code",
   "execution_count": 12,
   "id": "af44a3d1-48fe-43f7-a6fc-5a422a8fe90f",
   "metadata": {},
   "outputs": [
    {
     "data": {
      "text/plain": [
       "array([[0.50755548, 0.59065069, 0.53657501, 0.77292784, 0.17247845,\n",
       "        0.66364101, 0.68812274],\n",
       "       [0.48172876, 0.33989074, 0.43704343, 0.27543692, 0.86026658,\n",
       "        0.41207215, 0.20652976],\n",
       "       [0.56918112, 0.61022205, 0.55510359, 0.36696592, 0.12760879,\n",
       "        0.51248553, 0.67647365],\n",
       "       [0.40083412, 0.46605172, 0.51733251, 0.71015077, 0.78979328,\n",
       "        0.60301107, 0.38503938]])"
      ]
     },
     "execution_count": 12,
     "metadata": {},
     "output_type": "execute_result"
    }
   ],
   "source": [
    "best_solution.cluster_centers_"
   ]
  },
  {
   "cell_type": "markdown",
   "id": "156a8a48",
   "metadata": {},
   "source": [
    "### Random initialization"
   ]
  },
  {
   "cell_type": "code",
   "execution_count": 14,
   "id": "9529fe89-9fed-486f-80d8-15c184020c53",
   "metadata": {},
   "outputs": [],
   "source": [
    "best_solution = None\n",
    "time_partials = []\n",
    "scores = []\n",
    "\n",
    "start_total_time = time.time()\n",
    "for _ in range(1000):\n",
    "    start_partial_time = time.time()\n",
    "    kmeans = KMeans(4, init='random')\n",
    "    kmeans.fit(df)\n",
    "    partial_time = time.time() - start_partial_time\n",
    "    time_partials.append(partial_time)\n",
    "    scores.append(kmeans.inertia_)\n",
    "\n",
    "    if best_solution is None or kmeans.inertia_ < best_solution.inertia_:\n",
    "        best_solution = kmeans\n",
    "\n",
    "total_time = time.time() - start_total_time"
   ]
  },
  {
   "cell_type": "code",
   "execution_count": 15,
   "id": "fc72b2c9",
   "metadata": {},
   "outputs": [
    {
     "name": "stdout",
     "output_type": "stream",
     "text": [
      "Best inertia: 24506.49\n",
      "Average inertia: 24506.65\n",
      "Std inertia: 0.06\n",
      "--------------------------------------------------\n",
      "Total time:     149.97 seconds.\n",
      "Average time per loop:    0.15 seconds.\n",
      "Std time per loop:    0.02 seconds.\n"
     ]
    }
   ],
   "source": [
    "print(f'Best inertia: {best_solution.inertia_:.2f}')\n",
    "print(f'Average inertia: {np.mean(scores):.2f}')\n",
    "print(f'Std inertia: {np.std(scores):.2f}')\n",
    "print('-'*50)\n",
    "print(f'Total time:     {total_time:.2f} seconds.')\n",
    "print(f'Average time per loop:    {np.mean(time_partials):.2f} seconds.')\n",
    "print(f'Std time per loop:    {np.std(time_partials):.2f} seconds.')"
   ]
  },
  {
   "cell_type": "code",
   "execution_count": 16,
   "id": "e70c133a",
   "metadata": {},
   "outputs": [],
   "source": [
    "df_kmeans_random = df.copy()\n",
    "\n",
    "df_kmeans_random['labels'] = best_solution.predict(df_kmeans_random)"
   ]
  },
  {
   "cell_type": "code",
   "execution_count": 17,
   "id": "fdf7ed3b",
   "metadata": {},
   "outputs": [
    {
     "data": {
      "text/plain": [
       "labels\n",
       "3    0.272909\n",
       "0    0.260324\n",
       "1    0.241917\n",
       "2    0.224850\n",
       "Name: proportion, dtype: float64"
      ]
     },
     "execution_count": 17,
     "metadata": {},
     "output_type": "execute_result"
    }
   ],
   "source": [
    "df_kmeans_random.labels.value_counts(normalize=True)"
   ]
  },
  {
   "cell_type": "code",
   "execution_count": 18,
   "id": "a80ea354",
   "metadata": {},
   "outputs": [
    {
     "data": {
      "text/plain": [
       "array([[0.40118221, 0.46624003, 0.51744981, 0.70963542, 0.79012851,\n",
       "        0.60273467, 0.3851394 ],\n",
       "       [0.48164248, 0.33969401, 0.43693327, 0.27518656, 0.86014028,\n",
       "        0.41197962, 0.20635644],\n",
       "       [0.56956841, 0.61102091, 0.55582269, 0.36707454, 0.12666305,\n",
       "        0.5119005 , 0.67812678],\n",
       "       [0.5071575 , 0.58991378, 0.53593763, 0.77240441, 0.17306617,\n",
       "        0.66401628, 0.68662776]])"
      ]
     },
     "execution_count": 18,
     "metadata": {},
     "output_type": "execute_result"
    }
   ],
   "source": [
    "best_solution.cluster_centers_"
   ]
  },
  {
   "cell_type": "code",
   "execution_count": null,
   "id": "98580d53",
   "metadata": {},
   "outputs": [],
   "source": []
  },
  {
   "cell_type": "code",
   "execution_count": null,
   "id": "b11734c0",
   "metadata": {},
   "outputs": [],
   "source": []
  }
 ],
 "metadata": {
  "kernelspec": {
   "display_name": "Python 3 (ipykernel)",
   "language": "python",
   "name": "python3"
  },
  "language_info": {
   "codemirror_mode": {
    "name": "ipython",
    "version": 3
   },
   "file_extension": ".py",
   "mimetype": "text/x-python",
   "name": "python",
   "nbconvert_exporter": "python",
   "pygments_lexer": "ipython3",
   "version": "3.11.4"
  }
 },
 "nbformat": 4,
 "nbformat_minor": 5
}
