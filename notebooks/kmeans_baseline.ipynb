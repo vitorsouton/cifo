{
 "cells": [
  {
   "cell_type": "code",
   "execution_count": 14,
   "id": "0226e192-7b26-4cbc-813c-0ab6788257e3",
   "metadata": {},
   "outputs": [],
   "source": [
    "import pandas as pd\n",
    "import seaborn as sns"
   ]
  },
  {
   "cell_type": "code",
   "execution_count": 2,
   "id": "def473e1-8593-4291-b108-d4bbae797018",
   "metadata": {},
   "outputs": [
    {
     "data": {
      "text/html": [
       "<div>\n",
       "<style scoped>\n",
       "    .dataframe tbody tr th:only-of-type {\n",
       "        vertical-align: middle;\n",
       "    }\n",
       "\n",
       "    .dataframe tbody tr th {\n",
       "        vertical-align: top;\n",
       "    }\n",
       "\n",
       "    .dataframe thead th {\n",
       "        text-align: right;\n",
       "    }\n",
       "</style>\n",
       "<table border=\"1\" class=\"dataframe\">\n",
       "  <thead>\n",
       "    <tr style=\"text-align: right;\">\n",
       "      <th></th>\n",
       "      <th>duration_ms</th>\n",
       "      <th>loudness</th>\n",
       "      <th>tempo</th>\n",
       "      <th>valence</th>\n",
       "      <th>acousticness</th>\n",
       "      <th>danceability</th>\n",
       "      <th>energy</th>\n",
       "      <th>liveness</th>\n",
       "    </tr>\n",
       "  </thead>\n",
       "  <tbody>\n",
       "    <tr>\n",
       "      <th>0</th>\n",
       "      <td>0.403695</td>\n",
       "      <td>0.451467</td>\n",
       "      <td>0.178779</td>\n",
       "      <td>0.963</td>\n",
       "      <td>0.732</td>\n",
       "      <td>0.819</td>\n",
       "      <td>0.341</td>\n",
       "      <td>0.160</td>\n",
       "    </tr>\n",
       "    <tr>\n",
       "      <th>1</th>\n",
       "      <td>0.483304</td>\n",
       "      <td>0.557378</td>\n",
       "      <td>0.412301</td>\n",
       "      <td>0.165</td>\n",
       "      <td>0.967</td>\n",
       "      <td>0.275</td>\n",
       "      <td>0.309</td>\n",
       "      <td>0.381</td>\n",
       "    </tr>\n",
       "    <tr>\n",
       "      <th>2</th>\n",
       "      <td>0.366304</td>\n",
       "      <td>0.530943</td>\n",
       "      <td>0.421576</td>\n",
       "      <td>0.253</td>\n",
       "      <td>0.957</td>\n",
       "      <td>0.418</td>\n",
       "      <td>0.193</td>\n",
       "      <td>0.229</td>\n",
       "    </tr>\n",
       "    <tr>\n",
       "      <th>3</th>\n",
       "      <td>0.983312</td>\n",
       "      <td>0.449265</td>\n",
       "      <td>0.529827</td>\n",
       "      <td>0.196</td>\n",
       "      <td>0.579</td>\n",
       "      <td>0.697</td>\n",
       "      <td>0.346</td>\n",
       "      <td>0.130</td>\n",
       "    </tr>\n",
       "    <tr>\n",
       "      <th>4</th>\n",
       "      <td>0.346890</td>\n",
       "      <td>0.514234</td>\n",
       "      <td>0.210284</td>\n",
       "      <td>0.406</td>\n",
       "      <td>0.996</td>\n",
       "      <td>0.518</td>\n",
       "      <td>0.203</td>\n",
       "      <td>0.115</td>\n",
       "    </tr>\n",
       "  </tbody>\n",
       "</table>\n",
       "</div>"
      ],
      "text/plain": [
       "   duration_ms  loudness     tempo  valence  acousticness  danceability  \\\n",
       "0     0.403695  0.451467  0.178779    0.963         0.732         0.819   \n",
       "1     0.483304  0.557378  0.412301    0.165         0.967         0.275   \n",
       "2     0.366304  0.530943  0.421576    0.253         0.957         0.418   \n",
       "3     0.983312  0.449265  0.529827    0.196         0.579         0.697   \n",
       "4     0.346890  0.514234  0.210284    0.406         0.996         0.518   \n",
       "\n",
       "   energy  liveness  \n",
       "0   0.341     0.160  \n",
       "1   0.309     0.381  \n",
       "2   0.193     0.229  \n",
       "3   0.346     0.130  \n",
       "4   0.203     0.115  "
      ]
     },
     "execution_count": 2,
     "metadata": {},
     "output_type": "execute_result"
    }
   ],
   "source": [
    "df = pd.read_csv('../data/clean_data/clean_data.csv')\n",
    "df.head()"
   ]
  },
  {
   "cell_type": "markdown",
   "id": "bfbd9f84-b3de-4902-888c-a92856c450a6",
   "metadata": {},
   "source": [
    "# KMeans algo"
   ]
  },
  {
   "cell_type": "code",
   "execution_count": 3,
   "id": "37af233a-31b9-4bb3-9237-5b517d9ad44c",
   "metadata": {},
   "outputs": [],
   "source": [
    "from sklearn.cluster import KMeans"
   ]
  },
  {
   "cell_type": "code",
   "execution_count": 27,
   "id": "53706f7b-ded5-4edb-890b-8fd0b2a9622b",
   "metadata": {},
   "outputs": [
    {
     "data": {
      "text/plain": [
       "10"
      ]
     },
     "execution_count": 27,
     "metadata": {},
     "output_type": "execute_result"
    }
   ],
   "source": [
    "inertias = []\n",
    "for k in range(1, 11):\n",
    "    kmeans = KMeans(k)\n",
    "    kmeans.fit(df.drop(columns=['liveness']))\n",
    "    inertias.append(kmeans.inertia_)\n",
    "\n",
    "len(inertias)"
   ]
  },
  {
   "cell_type": "code",
   "execution_count": 28,
   "id": "b6ce6170-d559-4e04-ad32-096fbb91831f",
   "metadata": {},
   "outputs": [
    {
     "data": {
      "image/png": "[encoded data removed]",
      "text/plain": [
       "<Figure size 640x480 with 1 Axes>"
      ]
     },
     "metadata": {},
     "output_type": "display_data"
    }
   ],
   "source": [
    "sns.lineplot(x=list(range(1, 11)), y=inertias);"
   ]
  },
  {
   "cell_type": "markdown",
   "id": "4e78c3f1-4fa1-4311-b389-409d35fbe028",
   "metadata": {},
   "source": [
    "<font color='red'>The optimal number of clusters appears to be 4</font>"
   ]
  },
  {
   "cell_type": "code",
   "execution_count": 33,
   "id": "0ffbc356-2d03-4aae-9e42-2998cdc01e59",
   "metadata": {},
   "outputs": [],
   "source": [
    "kmeans = KMeans(4)\n",
    "\n",
    "df_labeled = df.copy()\n",
    "\n",
    "# A posteriori, the feature 'liveness' was adding complexity withou being useful for clustering\n",
    "df_labeled['labels'] = kmeans.fit_predict(df_labeled.drop(columns=['liveness'])) "
   ]
  },
  {
   "cell_type": "code",
   "execution_count": 34,
   "id": "2d73318d-0db6-4a34-acdb-427d761de854",
   "metadata": {},
   "outputs": [
    {
     "data": {
      "text/html": [
       "<div>\n",
       "<style scoped>\n",
       "    .dataframe tbody tr th:only-of-type {\n",
       "        vertical-align: middle;\n",
       "    }\n",
       "\n",
       "    .dataframe tbody tr th {\n",
       "        vertical-align: top;\n",
       "    }\n",
       "\n",
       "    .dataframe thead th {\n",
       "        text-align: right;\n",
       "    }\n",
       "</style>\n",
       "<table border=\"1\" class=\"dataframe\">\n",
       "  <thead>\n",
       "    <tr style=\"text-align: right;\">\n",
       "      <th></th>\n",
       "      <th>duration_ms</th>\n",
       "      <th>loudness</th>\n",
       "      <th>tempo</th>\n",
       "      <th>valence</th>\n",
       "      <th>acousticness</th>\n",
       "      <th>danceability</th>\n",
       "      <th>energy</th>\n",
       "      <th>liveness</th>\n",
       "      <th>labels</th>\n",
       "    </tr>\n",
       "  </thead>\n",
       "  <tbody>\n",
       "    <tr>\n",
       "      <th>0</th>\n",
       "      <td>0.403695</td>\n",
       "      <td>0.451467</td>\n",
       "      <td>0.178779</td>\n",
       "      <td>0.963</td>\n",
       "      <td>0.732</td>\n",
       "      <td>0.819</td>\n",
       "      <td>0.341</td>\n",
       "      <td>0.160</td>\n",
       "      <td>2</td>\n",
       "    </tr>\n",
       "    <tr>\n",
       "      <th>1</th>\n",
       "      <td>0.483304</td>\n",
       "      <td>0.557378</td>\n",
       "      <td>0.412301</td>\n",
       "      <td>0.165</td>\n",
       "      <td>0.967</td>\n",
       "      <td>0.275</td>\n",
       "      <td>0.309</td>\n",
       "      <td>0.381</td>\n",
       "      <td>1</td>\n",
       "    </tr>\n",
       "    <tr>\n",
       "      <th>2</th>\n",
       "      <td>0.366304</td>\n",
       "      <td>0.530943</td>\n",
       "      <td>0.421576</td>\n",
       "      <td>0.253</td>\n",
       "      <td>0.957</td>\n",
       "      <td>0.418</td>\n",
       "      <td>0.193</td>\n",
       "      <td>0.229</td>\n",
       "      <td>1</td>\n",
       "    </tr>\n",
       "    <tr>\n",
       "      <th>3</th>\n",
       "      <td>0.983312</td>\n",
       "      <td>0.449265</td>\n",
       "      <td>0.529827</td>\n",
       "      <td>0.196</td>\n",
       "      <td>0.579</td>\n",
       "      <td>0.697</td>\n",
       "      <td>0.346</td>\n",
       "      <td>0.130</td>\n",
       "      <td>1</td>\n",
       "    </tr>\n",
       "    <tr>\n",
       "      <th>4</th>\n",
       "      <td>0.346890</td>\n",
       "      <td>0.514234</td>\n",
       "      <td>0.210284</td>\n",
       "      <td>0.406</td>\n",
       "      <td>0.996</td>\n",
       "      <td>0.518</td>\n",
       "      <td>0.203</td>\n",
       "      <td>0.115</td>\n",
       "      <td>1</td>\n",
       "    </tr>\n",
       "  </tbody>\n",
       "</table>\n",
       "</div>"
      ],
      "text/plain": [
       "   duration_ms  loudness     tempo  valence  acousticness  danceability  \\\n",
       "0     0.403695  0.451467  0.178779    0.963         0.732         0.819   \n",
       "1     0.483304  0.557378  0.412301    0.165         0.967         0.275   \n",
       "2     0.366304  0.530943  0.421576    0.253         0.957         0.418   \n",
       "3     0.983312  0.449265  0.529827    0.196         0.579         0.697   \n",
       "4     0.346890  0.514234  0.210284    0.406         0.996         0.518   \n",
       "\n",
       "   energy  liveness  labels  \n",
       "0   0.341     0.160       2  \n",
       "1   0.309     0.381       1  \n",
       "2   0.193     0.229       1  \n",
       "3   0.346     0.130       1  \n",
       "4   0.203     0.115       1  "
      ]
     },
     "execution_count": 34,
     "metadata": {},
     "output_type": "execute_result"
    }
   ],
   "source": [
    "df_labeled.head()"
   ]
  },
  {
   "cell_type": "code",
   "execution_count": 35,
   "id": "20952bf6-df37-4fd3-b2f5-8ac00ff91c71",
   "metadata": {},
   "outputs": [
    {
     "data": {
      "text/plain": [
       "labels\n",
       "3    0.273511\n",
       "2    0.260672\n",
       "1    0.242081\n",
       "0    0.223735\n",
       "Name: proportion, dtype: float64"
      ]
     },
     "execution_count": 35,
     "metadata": {},
     "output_type": "execute_result"
    }
   ],
   "source": [
    "df_labeled.labels.value_counts(normalize=True)"
   ]
  },
  {
   "cell_type": "code",
   "execution_count": 36,
   "id": "2adb447c-3760-4533-99b3-cb12cdd2afbd",
   "metadata": {},
   "outputs": [],
   "source": [
    "df_labeled.to_csv('../data/clustered_data/kmeans_data.csv', index=False)"
   ]
  },
  {
   "cell_type": "code",
   "execution_count": 37,
   "id": "83eed0d9-9397-4b09-8854-b46fb98f477b",
   "metadata": {},
   "outputs": [
    {
     "data": {
      "text/plain": [
       "array([[0.5697019 , 0.60912361, 0.55462704, 0.36443946, 0.12893654,\n",
       "        0.51227278, 0.67414434],\n",
       "       [0.48139392, 0.33973015, 0.4369768 , 0.27578463, 0.86093781,\n",
       "        0.41204703, 0.20626383],\n",
       "       [0.40112475, 0.46634091, 0.51741085, 0.71041093, 0.78856263,\n",
       "        0.6032799 , 0.3857406 ],\n",
       "       [0.50783938, 0.5917858 , 0.53710636, 0.77148271, 0.17039263,\n",
       "        0.66255078, 0.6900888 ]])"
      ]
     },
     "execution_count": 37,
     "metadata": {},
     "output_type": "execute_result"
    }
   ],
   "source": [
    "kmeans.cluster_centers_"
   ]
  },
  {
   "cell_type": "code",
   "execution_count": 38,
   "id": "25fce15a-0283-4599-8393-fc8c980cd97c",
   "metadata": {},
   "outputs": [
    {
     "data": {
      "text/plain": [
       "24506.845702827795"
      ]
     },
     "execution_count": 38,
     "metadata": {},
     "output_type": "execute_result"
    }
   ],
   "source": [
    "kmeans.inertia_"
   ]
  },
  {
   "cell_type": "code",
   "execution_count": null,
   "id": "91f34b45-e2b8-425f-95d2-92b642c1e2e1",
   "metadata": {},
   "outputs": [],
   "source": []
  }
 ],
 "metadata": {
  "kernelspec": {
   "display_name": "Python 3 (ipykernel)",
   "language": "python",
   "name": "python3"
  },
  "language_info": {
   "codemirror_mode": {
    "name": "ipython",
    "version": 3
   },
   "file_extension": ".py",
   "mimetype": "text/x-python",
   "name": "python",
   "nbconvert_exporter": "python",
   "pygments_lexer": "ipython3",
   "version": "3.11.4"
  }
 },
 "nbformat": 4,
 "nbformat_minor": 5
}
